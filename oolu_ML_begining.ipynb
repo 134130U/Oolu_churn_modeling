{
 "cells": [
  {
   "cell_type": "code",
   "execution_count": 32,
   "metadata": {},
   "outputs": [],
   "source": [
    "import pandas as pd\n",
    "import numpy as np\n",
    "import matplotlib.pyplot as plt\n",
    "from datetime import date,datetime\n",
    "import DateTime\n",
    "from scipy.stats import norm, skew\n",
    "from scipy import stats\n",
    "#import statsmodels.api as sm"
   ]
  },
  {
   "cell_type": "code",
   "execution_count": 33,
   "metadata": {},
   "outputs": [],
   "source": [
    "# importing libraries for data visualisations\n",
    "import seaborn as sns\n",
    "from matplotlib import pyplot\n",
    "import matplotlib.pyplot as plt\n",
    "import matplotlib.pylab as pylab\n",
    "import matplotlib\n",
    "%matplotlib inline\n",
    "color = sns.color_palette()\n",
    "from IPython.display import display\n",
    "pd.options.display.max_columns = None\n",
    "# Standard plotly imports\n",
    "import plotly as py\n",
    "#import plotly.plotly as py\n",
    "import plotly.figure_factory as ff\n",
    "import plotly.graph_objs as go\n",
    "from plotly.offline import iplot, init_notebook_mode\n",
    "# Using plotly + cufflinks in offline mode\n",
    "from plotly.offline import download_plotlyjs, init_notebook_mode, plot, iplot\n",
    "#import cufflinks as cf\n",
    "#cf.set_config_file(offline=True)\n",
    "#import cufflinks\n",
    "#cufflinks.go_offline(connected=True)\n",
    "#init_notebook_mode(connected=True)"
   ]
  },
  {
   "cell_type": "code",
   "execution_count": 34,
   "metadata": {},
   "outputs": [],
   "source": [
    "#!pip install plotly"
   ]
  },
  {
   "cell_type": "code",
   "execution_count": 35,
   "metadata": {},
   "outputs": [],
   "source": [
    "# sklearn modules for preprocessing\n",
    "from sklearn.preprocessing import OneHotEncoder, LabelEncoder\n",
    "# from imblearn.over_sampling import SMOTE  # SMOTE\n",
    "# sklearn modules for ML model selection\n",
    "from sklearn.model_selection import train_test_split  # import 'train_test_split'\n",
    "from sklearn.model_selection import GridSearchCV\n",
    "from sklearn.model_selection import RandomizedSearchCV\n",
    "from sklearn.model_selection import ShuffleSplit\n",
    "from sklearn.model_selection import KFold\n",
    "from sklearn.model_selection import cross_val_score\n",
    "\n",
    "# Libraries for data modelling\n",
    "from sklearn import svm, tree, linear_model, neighbors\n",
    "from sklearn import naive_bayes, ensemble, discriminant_analysis, gaussian_process\n",
    "from sklearn.linear_model import LogisticRegression\n",
    "from sklearn.tree import DecisionTreeClassifier\n",
    "from sklearn.neighbors import KNeighborsClassifier\n",
    "from sklearn.discriminant_analysis import LinearDiscriminantAnalysis\n",
    "from sklearn.naive_bayes import GaussianNB\n",
    "from sklearn.svm import SVC\n",
    "from sklearn.neighbors import KNeighborsClassifier\n",
    "#import xgboost\n",
    "#from xgboost import XGBClassifier\n",
    "from sklearn.ensemble import RandomForestClassifier\n",
    "\n",
    "# Common sklearn Model Helpers\n",
    "from sklearn import feature_selection\n",
    "from sklearn import model_selection\n",
    "from sklearn import metrics\n",
    "# from sklearn.datasets import make_classification\n",
    "\n",
    "# sklearn modules for performance metrics\n",
    "from sklearn.metrics import confusion_matrix, classification_report, precision_recall_curve\n",
    "from sklearn.metrics import auc, roc_auc_score, roc_curve, recall_score, log_loss\n",
    "from sklearn.metrics import f1_score, accuracy_score, roc_auc_score, make_scorer\n",
    "from sklearn.metrics import average_precision_score"
   ]
  },
  {
   "cell_type": "markdown",
   "metadata": {},
   "source": [
    "# Exploratory Data Analysis\n",
    "\n",
    "The EDA is the first step of our machine learning modeling. It's gonna composed of 3 subsections. First of all we're going to take a look at the structure of our dataset in order to insight about our variable. This first subsection will help us to know different type of the variables and the shape of the dataset, to check variables with missing values. After we are going the feature engineering and feature transformation task where we correct type of some variables, treat missing values,tansform and normalize variables."
   ]
  },
  {
   "cell_type": "markdown",
   "metadata": {},
   "source": [
    "## Data Overview"
   ]
  },
  {
   "cell_type": "code",
   "execution_count": 37,
   "metadata": {},
   "outputs": [],
   "source": [
    "# #df = pd.merge(pred,targ, on='account_id', how = 'left')\n",
    "# import dtale"
   ]
  },
  {
   "cell_type": "code",
   "execution_count": 12,
   "metadata": {},
   "outputs": [],
   "source": [
    "df1 = pd.read_csv('churndata_10_20.csv', low_memory=False)\n"
   ]
  },
  {
   "cell_type": "code",
   "execution_count": 13,
   "metadata": {},
   "outputs": [
    {
     "data": {
      "text/html": [
       "<div>\n",
       "<style>\n",
       "    .dataframe thead tr:only-child th {\n",
       "        text-align: right;\n",
       "    }\n",
       "\n",
       "    .dataframe thead th {\n",
       "        text-align: left;\n",
       "    }\n",
       "\n",
       "    .dataframe tbody tr th {\n",
       "        vertical-align: top;\n",
       "    }\n",
       "</style>\n",
       "<table border=\"1\" class=\"dataframe\">\n",
       "  <thead>\n",
       "    <tr style=\"text-align: right;\">\n",
       "      <th></th>\n",
       "      <th>account_id</th>\n",
       "      <th>account_number</th>\n",
       "      <th>account_status</th>\n",
       "      <th>arrhes_day</th>\n",
       "      <th>price_program</th>\n",
       "      <th>arrhes</th>\n",
       "      <th>total_amount</th>\n",
       "      <th>minimum_payment</th>\n",
       "      <th>gap</th>\n",
       "      <th>invoce_model</th>\n",
       "      <th>created_at</th>\n",
       "      <th>total_payed</th>\n",
       "      <th>next_payment</th>\n",
       "      <th>group_name</th>\n",
       "      <th>prev_payment</th>\n",
       "      <th>prev_account_number</th>\n",
       "      <th>slug</th>\n",
       "      <th>cutoff_days</th>\n",
       "      <th>register_by</th>\n",
       "      <th>day_disabled</th>\n",
       "      <th>written_off</th>\n",
       "      <th>written_off_at</th>\n",
       "      <th>expected_total_amount</th>\n",
       "      <th>repossessed_at</th>\n",
       "      <th>commune</th>\n",
       "      <th>region</th>\n",
       "      <th>country</th>\n",
       "    </tr>\n",
       "  </thead>\n",
       "  <tbody>\n",
       "    <tr>\n",
       "      <th>0</th>\n",
       "      <td>55939</td>\n",
       "      <td>50130243</td>\n",
       "      <td>Unlocked</td>\n",
       "      <td>1.0</td>\n",
       "      <td>1000.0</td>\n",
       "      <td>1000.0</td>\n",
       "      <td>39000</td>\n",
       "      <td>1000.0</td>\n",
       "      <td>1.0</td>\n",
       "      <td>2</td>\n",
       "      <td>2020-02-11</td>\n",
       "      <td>39000</td>\n",
       "      <td>NaN</td>\n",
       "      <td>WowSolar100 - Cash - NGR</td>\n",
       "      <td>2020-02-12</td>\n",
       "      <td>NaN</td>\n",
       "      <td>ac559392020</td>\n",
       "      <td>0.0</td>\n",
       "      <td>518</td>\n",
       "      <td>1</td>\n",
       "      <td>False</td>\n",
       "      <td>NaN</td>\n",
       "      <td>39000</td>\n",
       "      <td>NaN</td>\n",
       "      <td>AKINYELE</td>\n",
       "      <td>OYO</td>\n",
       "      <td>Nigeria</td>\n",
       "    </tr>\n",
       "    <tr>\n",
       "      <th>1</th>\n",
       "      <td>28483</td>\n",
       "      <td>8871048</td>\n",
       "      <td>Deactive</td>\n",
       "      <td>30.0</td>\n",
       "      <td>3500.0</td>\n",
       "      <td>3500.0</td>\n",
       "      <td>126000</td>\n",
       "      <td>NaN</td>\n",
       "      <td>30.0</td>\n",
       "      <td>1</td>\n",
       "      <td>2017-10-12</td>\n",
       "      <td>84000</td>\n",
       "      <td>2020-10-03</td>\n",
       "      <td>PrePayee _3500/3500</td>\n",
       "      <td>2020-09-03</td>\n",
       "      <td>NaN</td>\n",
       "      <td>AC248085</td>\n",
       "      <td>-4.0</td>\n",
       "      <td>45</td>\n",
       "      <td>368</td>\n",
       "      <td>False</td>\n",
       "      <td>NaN</td>\n",
       "      <td>126000</td>\n",
       "      <td>NaN</td>\n",
       "      <td>TATAGUINE</td>\n",
       "      <td>FATICK</td>\n",
       "      <td>Senegal</td>\n",
       "    </tr>\n",
       "    <tr>\n",
       "      <th>2</th>\n",
       "      <td>57611</td>\n",
       "      <td>50126319</td>\n",
       "      <td>Unlocked</td>\n",
       "      <td>1.0</td>\n",
       "      <td>1000.0</td>\n",
       "      <td>1000.0</td>\n",
       "      <td>39000</td>\n",
       "      <td>1000.0</td>\n",
       "      <td>1.0</td>\n",
       "      <td>2</td>\n",
       "      <td>2020-03-26</td>\n",
       "      <td>39000</td>\n",
       "      <td>NaN</td>\n",
       "      <td>WowSolar100 - Cash - NGR</td>\n",
       "      <td>2020-03-27</td>\n",
       "      <td>NaN</td>\n",
       "      <td>ac576112020</td>\n",
       "      <td>0.0</td>\n",
       "      <td>3208</td>\n",
       "      <td>1</td>\n",
       "      <td>False</td>\n",
       "      <td>NaN</td>\n",
       "      <td>39000</td>\n",
       "      <td>NaN</td>\n",
       "      <td>ESAN NORTH-EAST</td>\n",
       "      <td>EDO</td>\n",
       "      <td>Nigeria</td>\n",
       "    </tr>\n",
       "    <tr>\n",
       "      <th>3</th>\n",
       "      <td>55645</td>\n",
       "      <td>NaN</td>\n",
       "      <td>Detached</td>\n",
       "      <td>30.0</td>\n",
       "      <td>3750.0</td>\n",
       "      <td>7500.0</td>\n",
       "      <td>52500</td>\n",
       "      <td>0.0</td>\n",
       "      <td>NaN</td>\n",
       "      <td>1</td>\n",
       "      <td>2020-02-04</td>\n",
       "      <td>0</td>\n",
       "      <td>NaN</td>\n",
       "      <td>WowSolar100 - 7500/3750 - NGR</td>\n",
       "      <td>NaN</td>\n",
       "      <td>70055937</td>\n",
       "      <td>ac556452020</td>\n",
       "      <td>0.0</td>\n",
       "      <td>2899</td>\n",
       "      <td>0</td>\n",
       "      <td>False</td>\n",
       "      <td>NaN</td>\n",
       "      <td>52500</td>\n",
       "      <td>2020-02-04</td>\n",
       "      <td>IKENNE</td>\n",
       "      <td>OGUN</td>\n",
       "      <td>Nigeria</td>\n",
       "    </tr>\n",
       "    <tr>\n",
       "      <th>4</th>\n",
       "      <td>176</td>\n",
       "      <td>70026498</td>\n",
       "      <td>Unlocked</td>\n",
       "      <td>NaN</td>\n",
       "      <td>NaN</td>\n",
       "      <td>NaN</td>\n",
       "      <td>255000</td>\n",
       "      <td>0.0</td>\n",
       "      <td>NaN</td>\n",
       "      <td>2</td>\n",
       "      <td>2018-03-28</td>\n",
       "      <td>255000</td>\n",
       "      <td>NaN</td>\n",
       "      <td>WowSolarTV19 - Cash - SN</td>\n",
       "      <td>2018-03-28</td>\n",
       "      <td>00039060</td>\n",
       "      <td>ac1762018</td>\n",
       "      <td>0.0</td>\n",
       "      <td>14</td>\n",
       "      <td>0</td>\n",
       "      <td>False</td>\n",
       "      <td>NaN</td>\n",
       "      <td>255000</td>\n",
       "      <td>NaN</td>\n",
       "      <td>KHELCOM BIRAME</td>\n",
       "      <td>KAOLACK</td>\n",
       "      <td>Senegal</td>\n",
       "    </tr>\n",
       "  </tbody>\n",
       "</table>\n",
       "</div>"
      ],
      "text/plain": [
       "   account_id account_number account_status  arrhes_day  price_program  \\\n",
       "0       55939       50130243       Unlocked         1.0         1000.0   \n",
       "1       28483        8871048       Deactive        30.0         3500.0   \n",
       "2       57611       50126319       Unlocked         1.0         1000.0   \n",
       "3       55645            NaN       Detached        30.0         3750.0   \n",
       "4         176       70026498       Unlocked         NaN            NaN   \n",
       "\n",
       "   arrhes  total_amount  minimum_payment   gap  invoce_model  created_at  \\\n",
       "0  1000.0         39000           1000.0   1.0             2  2020-02-11   \n",
       "1  3500.0        126000              NaN  30.0             1  2017-10-12   \n",
       "2  1000.0         39000           1000.0   1.0             2  2020-03-26   \n",
       "3  7500.0         52500              0.0   NaN             1  2020-02-04   \n",
       "4     NaN        255000              0.0   NaN             2  2018-03-28   \n",
       "\n",
       "   total_payed next_payment                     group_name prev_payment  \\\n",
       "0        39000          NaN       WowSolar100 - Cash - NGR   2020-02-12   \n",
       "1        84000   2020-10-03            PrePayee _3500/3500   2020-09-03   \n",
       "2        39000          NaN       WowSolar100 - Cash - NGR   2020-03-27   \n",
       "3            0          NaN  WowSolar100 - 7500/3750 - NGR          NaN   \n",
       "4       255000          NaN       WowSolarTV19 - Cash - SN   2018-03-28   \n",
       "\n",
       "  prev_account_number         slug  cutoff_days  register_by  day_disabled  \\\n",
       "0                 NaN  ac559392020          0.0          518             1   \n",
       "1                 NaN     AC248085         -4.0           45           368   \n",
       "2                 NaN  ac576112020          0.0         3208             1   \n",
       "3            70055937  ac556452020          0.0         2899             0   \n",
       "4            00039060    ac1762018          0.0           14             0   \n",
       "\n",
       "   written_off written_off_at  expected_total_amount repossessed_at  \\\n",
       "0        False            NaN                  39000            NaN   \n",
       "1        False            NaN                 126000            NaN   \n",
       "2        False            NaN                  39000            NaN   \n",
       "3        False            NaN                  52500     2020-02-04   \n",
       "4        False            NaN                 255000            NaN   \n",
       "\n",
       "           commune   region  country  \n",
       "0         AKINYELE      OYO  Nigeria  \n",
       "1        TATAGUINE   FATICK  Senegal  \n",
       "2  ESAN NORTH-EAST      EDO  Nigeria  \n",
       "3           IKENNE     OGUN  Nigeria  \n",
       "4   KHELCOM BIRAME  KAOLACK  Senegal  "
      ]
     },
     "execution_count": 13,
     "metadata": {},
     "output_type": "execute_result"
    }
   ],
   "source": [
    "df = df1.copy()\n",
    "df.head()"
   ]
  },
  {
   "cell_type": "code",
   "execution_count": 14,
   "metadata": {},
   "outputs": [
    {
     "data": {
      "text/plain": [
       "Index(['account_id', 'account_number', 'account_status', 'arrhes_day',\n",
       "       'price_program', 'arrhes', 'total_amount', 'minimum_payment', 'gap',\n",
       "       'invoce_model', 'created_at', 'total_payed', 'next_payment',\n",
       "       'group_name', 'prev_payment', 'prev_account_number', 'slug',\n",
       "       'cutoff_days', 'register_by', 'day_disabled', 'written_off',\n",
       "       'written_off_at', 'expected_total_amount', 'repossessed_at', 'commune',\n",
       "       'region', 'country'],\n",
       "      dtype='object')"
      ]
     },
     "execution_count": 14,
     "metadata": {},
     "output_type": "execute_result"
    }
   ],
   "source": [
    "df.columns"
   ]
  },
  {
   "cell_type": "code",
   "execution_count": 15,
   "metadata": {},
   "outputs": [
    {
     "data": {
      "text/plain": [
       "account_id                 int64\n",
       "account_number            object\n",
       "account_status            object\n",
       "arrhes_day               float64\n",
       "price_program            float64\n",
       "arrhes                   float64\n",
       "total_amount               int64\n",
       "minimum_payment          float64\n",
       "gap                      float64\n",
       "invoce_model               int64\n",
       "created_at                object\n",
       "total_payed                int64\n",
       "next_payment              object\n",
       "group_name                object\n",
       "prev_payment              object\n",
       "prev_account_number       object\n",
       "slug                      object\n",
       "cutoff_days              float64\n",
       "register_by                int64\n",
       "day_disabled               int64\n",
       "written_off                 bool\n",
       "written_off_at            object\n",
       "expected_total_amount      int64\n",
       "repossessed_at            object\n",
       "commune                   object\n",
       "region                    object\n",
       "country                   object\n",
       "dtype: object"
      ]
     },
     "execution_count": 15,
     "metadata": {},
     "output_type": "execute_result"
    }
   ],
   "source": [
    "df.dtypes"
   ]
  },
  {
   "cell_type": "code",
   "execution_count": 16,
   "metadata": {},
   "outputs": [
    {
     "data": {
      "text/plain": [
       "(63722, 27)"
      ]
     },
     "execution_count": 16,
     "metadata": {},
     "output_type": "execute_result"
    }
   ],
   "source": [
    "df.shape"
   ]
  },
  {
   "cell_type": "markdown",
   "metadata": {},
   "source": [
    "## Numerical variables overview"
   ]
  },
  {
   "cell_type": "code",
   "execution_count": 17,
   "metadata": {},
   "outputs": [
    {
     "data": {
      "image/png": "[encoded data removed]",
      "text/plain": [
       "<matplotlib.figure.Figure at 0x7f105b550518>"
      ]
     },
     "metadata": {},
     "output_type": "display_data"
    }
   ],
   "source": [
    "# Nuemerical overview\n",
    "var_num = [var for var in df.columns if df[var].dtypes in('float64','int64')]\n",
    "df[var_num].hist(figsize=(20,20))\n",
    "plt.show()"
   ]
  },
  {
   "cell_type": "markdown",
   "metadata": {},
   "source": [
    "From these histograms we can see that the account_id and the client_id are almost uniformly distributed and that can justify that they are Id for observations.The account_number and previous_account number have almost the same probability distribution. Some feature here are also redondant for gap, arrhes_day and register_by and user_id and total_amount and expected_total_amount. We notice that few feature here countinous variable which are total_amount,expected_amount_paid,total_payed,day_disabled,cutoff_days and the emaining numerical variable are discret.\n",
    "The day_disabled and the total_payed feature are right skew, so some normalization technics must be applied to them."
   ]
  },
  {
   "cell_type": "code",
   "execution_count": 18,
   "metadata": {},
   "outputs": [],
   "source": [
    "num = ['arrhes_day', 'price_program',\n",
    "       'arrhes', 'total_amount', 'minimum_payment', 'invoce_model',\n",
    "        'total_payed','cutoff_days', 'day_disabled', 'expected_total_amount']\n",
    "info = df[num].describe()"
   ]
  },
  {
   "cell_type": "code",
   "execution_count": 19,
   "metadata": {},
   "outputs": [
    {
     "data": {
      "text/html": [
       "<div>\n",
       "<style>\n",
       "    .dataframe thead tr:only-child th {\n",
       "        text-align: right;\n",
       "    }\n",
       "\n",
       "    .dataframe thead th {\n",
       "        text-align: left;\n",
       "    }\n",
       "\n",
       "    .dataframe tbody tr th {\n",
       "        vertical-align: top;\n",
       "    }\n",
       "</style>\n",
       "<table border=\"1\" class=\"dataframe\">\n",
       "  <thead>\n",
       "    <tr style=\"text-align: right;\">\n",
       "      <th></th>\n",
       "      <th>arrhes_day</th>\n",
       "      <th>price_program</th>\n",
       "      <th>arrhes</th>\n",
       "      <th>total_amount</th>\n",
       "      <th>minimum_payment</th>\n",
       "      <th>invoce_model</th>\n",
       "      <th>total_payed</th>\n",
       "      <th>cutoff_days</th>\n",
       "      <th>day_disabled</th>\n",
       "      <th>expected_total_amount</th>\n",
       "    </tr>\n",
       "  </thead>\n",
       "  <tbody>\n",
       "    <tr>\n",
       "      <th>count</th>\n",
       "      <td>57238.000000</td>\n",
       "      <td>57058.000000</td>\n",
       "      <td>57238.000000</td>\n",
       "      <td>63722.000000</td>\n",
       "      <td>24579.000000</td>\n",
       "      <td>63722.000000</td>\n",
       "      <td>63722.000000</td>\n",
       "      <td>63722.000000</td>\n",
       "      <td>63722.000000</td>\n",
       "      <td>63722.000000</td>\n",
       "    </tr>\n",
       "    <tr>\n",
       "      <th>mean</th>\n",
       "      <td>62.504647</td>\n",
       "      <td>10916.159872</td>\n",
       "      <td>14835.936808</td>\n",
       "      <td>117901.639167</td>\n",
       "      <td>7532.462671</td>\n",
       "      <td>0.979944</td>\n",
       "      <td>67037.950614</td>\n",
       "      <td>-295.571034</td>\n",
       "      <td>174.032014</td>\n",
       "      <td>118850.496689</td>\n",
       "    </tr>\n",
       "    <tr>\n",
       "      <th>std</th>\n",
       "      <td>100.724598</td>\n",
       "      <td>25790.790667</td>\n",
       "      <td>28287.983079</td>\n",
       "      <td>68565.061827</td>\n",
       "      <td>26382.342938</td>\n",
       "      <td>0.532528</td>\n",
       "      <td>59659.113859</td>\n",
       "      <td>456.448899</td>\n",
       "      <td>262.066343</td>\n",
       "      <td>75508.275014</td>\n",
       "    </tr>\n",
       "    <tr>\n",
       "      <th>min</th>\n",
       "      <td>0.000000</td>\n",
       "      <td>1000.000000</td>\n",
       "      <td>0.000000</td>\n",
       "      <td>5800.000000</td>\n",
       "      <td>0.000000</td>\n",
       "      <td>0.000000</td>\n",
       "      <td>0.000000</td>\n",
       "      <td>-1542.430000</td>\n",
       "      <td>0.000000</td>\n",
       "      <td>5800.000000</td>\n",
       "    </tr>\n",
       "    <tr>\n",
       "      <th>25%</th>\n",
       "      <td>30.000000</td>\n",
       "      <td>3500.000000</td>\n",
       "      <td>3500.000000</td>\n",
       "      <td>85500.000000</td>\n",
       "      <td>0.000000</td>\n",
       "      <td>1.000000</td>\n",
       "      <td>21000.000000</td>\n",
       "      <td>-650.190000</td>\n",
       "      <td>1.000000</td>\n",
       "      <td>85500.000000</td>\n",
       "    </tr>\n",
       "  </tbody>\n",
       "</table>\n",
       "</div>"
      ],
      "text/plain": [
       "         arrhes_day  price_program        arrhes   total_amount  \\\n",
       "count  57238.000000   57058.000000  57238.000000   63722.000000   \n",
       "mean      62.504647   10916.159872  14835.936808  117901.639167   \n",
       "std      100.724598   25790.790667  28287.983079   68565.061827   \n",
       "min        0.000000    1000.000000      0.000000    5800.000000   \n",
       "25%       30.000000    3500.000000   3500.000000   85500.000000   \n",
       "\n",
       "       minimum_payment  invoce_model   total_payed   cutoff_days  \\\n",
       "count     24579.000000  63722.000000  63722.000000  63722.000000   \n",
       "mean       7532.462671      0.979944  67037.950614   -295.571034   \n",
       "std       26382.342938      0.532528  59659.113859    456.448899   \n",
       "min           0.000000      0.000000      0.000000  -1542.430000   \n",
       "25%           0.000000      1.000000  21000.000000   -650.190000   \n",
       "\n",
       "       day_disabled  expected_total_amount  \n",
       "count  63722.000000           63722.000000  \n",
       "mean     174.032014          118850.496689  \n",
       "std      262.066343           75508.275014  \n",
       "min        0.000000            5800.000000  \n",
       "25%        1.000000           85500.000000  "
      ]
     },
     "execution_count": 19,
     "metadata": {},
     "output_type": "execute_result"
    }
   ],
   "source": [
    "info.head()"
   ]
  },
  {
   "cell_type": "code",
   "execution_count": 20,
   "metadata": {},
   "outputs": [
    {
     "data": {
      "text/plain": [
       "Index(['account_id', 'arrhes_day', 'price_program', 'arrhes', 'total_amount',\n",
       "       'minimum_payment', 'gap', 'invoce_model', 'total_payed', 'cutoff_days',\n",
       "       'register_by', 'day_disabled', 'expected_total_amount'],\n",
       "      dtype='object')"
      ]
     },
     "execution_count": 20,
     "metadata": {},
     "output_type": "execute_result"
    }
   ],
   "source": [
    "df[var_num].columns"
   ]
  },
  {
   "cell_type": "markdown",
   "metadata": {},
   "source": [
    "## Missing values overview"
   ]
  },
  {
   "cell_type": "code",
   "execution_count": 21,
   "metadata": {},
   "outputs": [
    {
     "name": "stdout",
     "output_type": "stream",
     "text": [
      "account_number 25.687 % missing values\n",
      "account_status 0.024 % missing values\n",
      "arrhes_day 10.175 % missing values\n",
      "price_program 10.458 % missing values\n",
      "arrhes 10.175 % missing values\n",
      "minimum_payment 61.428 % missing values\n",
      "gap 22.524 % missing values\n",
      "next_payment 35.49 % missing values\n",
      "prev_payment 1.113 % missing values\n",
      "prev_account_number 63.567 % missing values\n",
      "written_off_at 62.274 % missing values\n",
      "repossessed_at 87.879 % missing values\n",
      "country 0.02 % missing values\n"
     ]
    }
   ],
   "source": [
    "# Let's make the list of variables that contains missing values\n",
    "var_na = [var for var in df.columns if df[var].isnull().sum()>1]\n",
    "# Let's show the variable and the percentage of missing values\n",
    "for var in var_na:\n",
    "    print(var, np.round(100*df[var].isnull().mean(),3), '% missing values')"
   ]
  },
  {
   "cell_type": "markdown",
   "metadata": {},
   "source": [
    "We find that there 13 columns with missing values. 4 of them are date features. Usually dates are not predictive but we can use them to compute period or age features which will be predictive. We gonna remove the next_payment and the repossessed_at date because the first one is used to compute the cutoff_days dispite it has few missing values and the second has almost 90% missing values and written_off_at too. for the prev_payment where we only miss 1.45% of the observations, we gonna replace the missing values by the created_at date and used it to create a new columns that give the #days since last payment. The gap and the minimum_payment: the first one could create redondancy with the harres feature and the second one has 80% of the data missing.\n",
    "the missing  values of account_number and prev_account_number can be explained by the repossession and replacement of the system. thefore we can deal with those to columns to to check wether this was a replacement or not in a account and after we should remove them.\n"
   ]
  },
  {
   "cell_type": "code",
   "execution_count": 22,
   "metadata": {},
   "outputs": [
    {
     "name": "stdout",
     "output_type": "stream",
     "text": [
      "there are 14 numerical variables and 13 none numerical in the data set \n"
     ]
    }
   ],
   "source": [
    "num_variables = [var for var in df.columns if df[var].dtypes !='O']\n",
    "none_num = df.shape[1]-len(num_variables)\n",
    "print('there are %(num_var)d numerical variables and %(none_num)d none numerical in the data set ' %{\"num_var\":len(num_variables),\"none_num\":none_num})"
   ]
  },
  {
   "cell_type": "markdown",
   "metadata": {},
   "source": [
    "# Univariate & Bivariate Analysis"
   ]
  },
  {
   "cell_type": "markdown",
   "metadata": {},
   "source": [
    "### Status"
   ]
  },
  {
   "cell_type": "code",
   "execution_count": 23,
   "metadata": {},
   "outputs": [
    {
     "data": {
      "text/plain": [
       "Unlocked    22685\n",
       "Detached    16350\n",
       "Active      12413\n",
       "Deactive    12259\n",
       "Name: account_status, dtype: int64"
      ]
     },
     "execution_count": 23,
     "metadata": {},
     "output_type": "execute_result"
    }
   ],
   "source": [
    "df['account_status'].value_counts()"
   ]
  },
  {
   "cell_type": "code",
   "execution_count": 27,
   "metadata": {},
   "outputs": [
    {
     "name": "stdout",
     "output_type": "stream",
     "text": [
      "Unlocked\n",
      "Deactive\n",
      "Detached\n",
      "Active\n",
      "nan\n"
     ]
    },
    {
     "data": {
      "text/html": [
       "<div>\n",
       "<style>\n",
       "    .dataframe thead tr:only-child th {\n",
       "        text-align: right;\n",
       "    }\n",
       "\n",
       "    .dataframe thead th {\n",
       "        text-align: left;\n",
       "    }\n",
       "\n",
       "    .dataframe tbody tr th {\n",
       "        vertical-align: top;\n",
       "    }\n",
       "</style>\n",
       "<table border=\"1\" class=\"dataframe\">\n",
       "  <thead>\n",
       "    <tr style=\"text-align: right;\">\n",
       "      <th></th>\n",
       "      <th>% churned</th>\n",
       "    </tr>\n",
       "    <tr>\n",
       "      <th>status</th>\n",
       "      <th></th>\n",
       "    </tr>\n",
       "  </thead>\n",
       "  <tbody>\n",
       "    <tr>\n",
       "      <th>Active</th>\n",
       "      <td>0.016112</td>\n",
       "    </tr>\n",
       "    <tr>\n",
       "      <th>Deactive</th>\n",
       "      <td>0.016112</td>\n",
       "    </tr>\n",
       "    <tr>\n",
       "      <th>Detached</th>\n",
       "      <td>0.016112</td>\n",
       "    </tr>\n",
       "    <tr>\n",
       "      <th>Unlocked</th>\n",
       "      <td>0.016112</td>\n",
       "    </tr>\n",
       "  </tbody>\n",
       "</table>\n",
       "</div>"
      ],
      "text/plain": [
       "          % churned\n",
       "status             \n",
       "Active     0.016112\n",
       "Deactive   0.016112\n",
       "Detached   0.016112\n",
       "Unlocked   0.016112"
      ]
     },
     "execution_count": 27,
     "metadata": {},
     "output_type": "execute_result"
    }
   ],
   "source": [
    "AccountStatus = pd.DataFrame(columns = ['status','% churned'])\n",
    "i=0\n",
    "for status in list(df['account_status'].unique()):\n",
    "#     ratio = df[(df['account_status']==status)&(df['written_off']==True)].shape[0] / df[df['account_status']==status].shape[0]\n",
    "    print(status)\n",
    "    AccountStatus.loc[i] = (status, ratio*100)\n",
    "    i += 1   \n",
    "df_Status= AccountStatus.groupby(by=\"status\").sum()\n",
    "#df_Status.iplot(kind='bar',title='Chuned account by Status (%)')\n",
    "df_Status"
   ]
  },
  {
   "cell_type": "markdown",
   "metadata": {},
   "source": [
    "Here we see that 95.35% of the accounts are churned 33 % are desactived. Only few active and unlocked accounts (0.01%) are now churned and that might be some outliers cause active and unlocked accounts are not supposes to be churned."
   ]
  },
  {
   "cell_type": "markdown",
   "metadata": {},
   "source": [
    "### Product type"
   ]
  },
  {
   "cell_type": "code",
   "execution_count": 20,
   "metadata": {},
   "outputs": [
    {
     "data": {
      "text/plain": [
       "Sun King Home 60 Easy Buy    39690\n",
       "WowSolar60                    4893\n",
       "WowSolarTV19                  3023\n",
       "WowSolar100                   1790\n",
       "Solar Fan                      286\n",
       "Hair Clipper                    11\n",
       "Name: product_type, dtype: int64"
      ]
     },
     "execution_count": 20,
     "metadata": {},
     "output_type": "execute_result"
    }
   ],
   "source": [
    "df['product_type'].value_counts()"
   ]
  },
  {
   "cell_type": "code",
   "execution_count": 21,
   "metadata": {},
   "outputs": [
    {
     "data": {
      "text/plain": [
       "<matplotlib.axes._subplots.AxesSubplot at 0x12c30c02048>"
      ]
     },
     "execution_count": 21,
     "metadata": {},
     "output_type": "execute_result"
    },
    {
     "data": {
      "image/png": "[encoded data removed]",
      "text/plain": [
       "<Figure size 432x288 with 1 Axes>"
      ]
     },
     "metadata": {
      "needs_background": "light"
     },
     "output_type": "display_data"
    }
   ],
   "source": [
    "typeproduct = pd.DataFrame(columns = ['product','% churned'])\n",
    "i=0\n",
    "for product in list(df['product_type'].unique()):\n",
    "    ratio = df[(df['product_type']==product)&(df['written_off']==True)].shape[0] / df[df['product_type']==product].shape[0]\n",
    "    typeproduct.loc[i] = (product, ratio*100)\n",
    "    i += 1   \n",
    "df_product= typeproduct.groupby(by=\"product\").sum()\n",
    "df_product.plot(kind='bar')"
   ]
  },
  {
   "cell_type": "markdown",
   "metadata": {},
   "source": [
    "Most of the chuners are SHS systems (>45%) followed by the the Wowsolar60 (<5%). Few TV are churned (<2%) and No Hair CLipper or Solar Fan are churned."
   ]
  },
  {
   "cell_type": "markdown",
   "metadata": {},
   "source": [
    "### Group name"
   ]
  },
  {
   "cell_type": "code",
   "execution_count": 22,
   "metadata": {},
   "outputs": [
    {
     "data": {
      "text/plain": [
       "PrePayee _3500/3500                             26393\n",
       "PrePayee_8500/4250                               4559\n",
       "PAYG 9000/4500                                   2480\n",
       "Chef_PrePayee_0/3500                             2086\n",
       "Chef_PrePayee_4250/4250                          1847\n",
       "WowSolar60 - Mensuel - BF                        1519\n",
       "WowSolar60 - Mensuel - ML                        1307\n",
       "WowSolarTV - Annuité - SN                         771\n",
       "WowSolarTV - Mensuel - SN                         736\n",
       "Paiement Annuel 35 000 / 35 000                   731\n",
       "Achat Direct - 60 000                             641\n",
       "WowSolar100 - Cash - NGR                          637\n",
       "WowSolar100 - Monthly - NGR                       635\n",
       "PAYG Cash Sales - 70000                           444\n",
       "WowSolar60 - Annuel - BF                          435\n",
       "WowSolarTV - Mensuel - ML                         380\n",
       "WowSolar100 - Annual - NGR                        360\n",
       "Vente Annuelle (41500 x 2)                        341\n",
       "WowSolar60 - Cash - ML                            332\n",
       "WowSolar60_Mensuelle 8500/4250                    330\n",
       "WowSolar60 - Annuel - ML                          329\n",
       "SolarFAN - Cash - NGR                             286\n",
       "WowSolar60 - Cash - BF                            261\n",
       "WowSolarTV - Annuel - ML                          211\n",
       "WowSolarTV - Monthly - NGR                        191\n",
       "WowSolarTV - Mensuel - BF                         167\n",
       "Chef 4500/4500                                    159\n",
       "WowSolar100 - 7500/3750 - NGR                     158\n",
       "WowSolar60 - chef - BF                            134\n",
       "WowSolarTV - Cash - SN                            133\n",
       "WOW60 Mensuel - 8500/4250                         130\n",
       "WowSolarTV - Cash - ML                            102\n",
       "WowSolarTV - Cash - NGR                            93\n",
       "WowSolarTV - Annuel - BF                           88\n",
       "WowSolarTV - Annuel - NGR                          72\n",
       "WowSolar60_Vente 70,000CFA                         53\n",
       "WowSolarTV - Cash - BF                             44\n",
       "WowSolar60_Annuelle 41500x2                        34\n",
       "WowSolar TV Mensuel - 55500/12500                  14\n",
       "WowSolarTV - Mensualité - GIE Sunu yaye - SN       12\n",
       "Rechargeable Hair Clipper                          11\n",
       "WOW60 Annuel - 41500x2                              8\n",
       "chef - 4500/4500                                    7\n",
       "WOW60 Cash - 70000                                  7\n",
       "WOW60 Promotion Annuel - 35000x2                    6\n",
       "WowSolarTV - Mensuel Pilote - BF                    5\n",
       "Pilot Mbour - 3500/3500                             4\n",
       "Caution 5000                                        3\n",
       "PAYG - GIE Sunu Yaye / 5000                         2\n",
       "WowSolar TV Annuel - 140000x2                       2\n",
       "WowSolar TV - Cash 255000                           1\n",
       "WowSolar TV Promotion Cash -  220000                1\n",
       "WOW60 Promotion Cash - 60000                        1\n",
       "Name: group_name, dtype: int64"
      ]
     },
     "execution_count": 22,
     "metadata": {},
     "output_type": "execute_result"
    }
   ],
   "source": [
    "df['group_name'].value_counts()"
   ]
  },
  {
   "cell_type": "code",
   "execution_count": 23,
   "metadata": {},
   "outputs": [
    {
     "data": {
      "text/plain": [
       "<matplotlib.axes._subplots.AxesSubplot at 0x12c30d95ac8>"
      ]
     },
     "execution_count": 23,
     "metadata": {},
     "output_type": "execute_result"
    },
    {
     "data": {
      "image/png": "[encoded data removed]",
      "text/plain": [
       "<Figure size 1440x360 with 1 Axes>"
      ]
     },
     "metadata": {
      "needs_background": "light"
     },
     "output_type": "display_data"
    }
   ],
   "source": [
    "Groups = pd.DataFrame(columns = ['group_name','% churned'])\n",
    "i=0\n",
    "for group in list(df['group_name'].unique()):\n",
    "    ratio = df[(df['group_name']==group)&(df['written_off']==True)].shape[0] / df[df['group_name']==group].shape[0]\n",
    "    Groups.loc[i] = (group, ratio*100)\n",
    "    i += 1   \n",
    "df_group= Groups.groupby(by=\"group_name\").sum()\n",
    "df_group.plot(kind ='bar',figsize=(20,5) )"
   ]
  },
  {
   "cell_type": "markdown",
   "metadata": {},
   "source": [
    "### Country"
   ]
  },
  {
   "cell_type": "code",
   "execution_count": 24,
   "metadata": {},
   "outputs": [
    {
     "data": {
      "text/plain": [
       "Senegal    37745\n",
       "Mali        6682\n",
       "Burkina     2653\n",
       "Nigeria     2443\n",
       "Niger        170\n",
       "Name: country, dtype: int64"
      ]
     },
     "execution_count": 24,
     "metadata": {},
     "output_type": "execute_result"
    }
   ],
   "source": [
    "df['country'].value_counts()"
   ]
  },
  {
   "cell_type": "code",
   "execution_count": 25,
   "metadata": {},
   "outputs": [
    {
     "data": {
      "text/plain": [
       "<matplotlib.axes._subplots.AxesSubplot at 0x12c310f9588>"
      ]
     },
     "execution_count": 25,
     "metadata": {},
     "output_type": "execute_result"
    },
    {
     "data": {
      "image/png": "[encoded data removed]",
      "text/plain": [
       "<Figure size 432x288 with 1 Axes>"
      ]
     },
     "metadata": {
      "needs_background": "light"
     },
     "output_type": "display_data"
    }
   ],
   "source": [
    "Countries = pd.DataFrame(columns = ['country','% churned'])\n",
    "i=0\n",
    "for country in list(df['country'].unique()):\n",
    "    ratio = df[(df['country']==country)&(df['written_off']==True)].shape[0] / df[df['country']==country].shape[0]\n",
    "    Countries.loc[i] = (country, ratio*100)\n",
    "    i += 1   \n",
    "df_country= Countries.groupby(by=\"country\").sum()\n",
    "df_country.plot(kind ='bar')"
   ]
  },
  {
   "cell_type": "markdown",
   "metadata": {},
   "source": [
    "Almost 50% of the churners are from sengal, Mali come on the second position with 12% of churners and followed by Burkina with 7%. Nigeria as less than 5% of the churners and no customer is churned in Niger yet."
   ]
  },
  {
   "cell_type": "markdown",
   "metadata": {},
   "source": [
    "### Invoice Model"
   ]
  },
  {
   "cell_type": "code",
   "execution_count": 26,
   "metadata": {},
   "outputs": [
    {
     "data": {
      "text/plain": [
       "1    39317\n",
       "0     7330\n",
       "2     3046\n",
       "Name: invoce_model, dtype: int64"
      ]
     },
     "execution_count": 26,
     "metadata": {},
     "output_type": "execute_result"
    }
   ],
   "source": [
    "df['invoce_model'].value_counts()"
   ]
  },
  {
   "cell_type": "code",
   "execution_count": 27,
   "metadata": {},
   "outputs": [
    {
     "data": {
      "text/plain": [
       "<matplotlib.axes._subplots.AxesSubplot at 0x12c30f1fbe0>"
      ]
     },
     "execution_count": 27,
     "metadata": {},
     "output_type": "execute_result"
    },
    {
     "data": {
      "image/png": "[encoded data removed]",
      "text/plain": [
       "<Figure size 1440x360 with 1 Axes>"
      ]
     },
     "metadata": {
      "needs_background": "light"
     },
     "output_type": "display_data"
    }
   ],
   "source": [
    "invoiceModel = pd.DataFrame(columns = ['model','% churned'])\n",
    "i=0\n",
    "for invoice in list(df['invoce_model'].unique()):\n",
    "    ratio = df[(df['invoce_model']==invoice)&(df['written_off']==True)].shape[0] / df[df['invoce_model']==invoice].shape[0]\n",
    "    invoiceModel.loc[i] = (invoice, ratio*100)\n",
    "    i += 1   \n",
    "df_invoice= invoiceModel.groupby(by=\"model\").sum()\n",
    "df_invoice.plot(kind ='bar',figsize=(20,5) )"
   ]
  },
  {
   "cell_type": "code",
   "execution_count": 28,
   "metadata": {},
   "outputs": [
    {
     "data": {
      "text/plain": [
       "Index(['account_id', 'account_number', 'status', 'arrhes_day', 'price_program',\n",
       "       'arrhes', 'total_amount', 'minimum_payment', 'gap', 'invoce_model',\n",
       "       'user_id', 'group_id', 'created_at', 'total_payed', 'next_payment',\n",
       "       'group_name', 'prev_payment', 'prev_account_number', 'slug',\n",
       "       'cutoff_days', 'register_by', 'day_disabled', 'written_off',\n",
       "       'written_off_at', 'expected_total_amount', 'repossessed_at',\n",
       "       'id_client', 'id_tenant', 'commune', 'region', 'country',\n",
       "       'account_status', 'product_type'],\n",
       "      dtype='object')"
      ]
     },
     "execution_count": 28,
     "metadata": {},
     "output_type": "execute_result"
    }
   ],
   "source": [
    "df.columns"
   ]
  },
  {
   "cell_type": "markdown",
   "metadata": {},
   "source": [
    "### Arrhes Days"
   ]
  },
  {
   "cell_type": "code",
   "execution_count": 29,
   "metadata": {},
   "outputs": [
    {
     "data": {
      "text/plain": [
       "count    47376.000000\n",
       "mean        53.351275\n",
       "std         85.960130\n",
       "min          0.000000\n",
       "25%         30.000000\n",
       "50%         30.000000\n",
       "75%         30.000000\n",
       "max        365.000000\n",
       "Name: arrhes_day, dtype: float64"
      ]
     },
     "execution_count": 29,
     "metadata": {},
     "output_type": "execute_result"
    }
   ],
   "source": [
    "df['arrhes_day'].describe()"
   ]
  },
  {
   "cell_type": "code",
   "execution_count": 30,
   "metadata": {},
   "outputs": [
    {
     "name": "stderr",
     "output_type": "stream",
     "text": [
      "C:\\Users\\OSN-AN\\Anaconda3\\lib\\site-packages\\plotly\\offline\\offline.py:562: UserWarning:\n",
      "\n",
      "Your filename `Distplot with Multiple Datasets` didn't end with .html. Adding .html to the end of your file.\n",
      "\n"
     ]
    },
    {
     "data": {
      "text/plain": [
       "'Distplot with Multiple Datasets.html'"
      ]
     },
     "execution_count": 30,
     "metadata": {},
     "output_type": "execute_result"
    }
   ],
   "source": [
    "df2 = df.copy()\n",
    "df2.fillna(0,inplace = True)\n",
    "a1 = df2.loc[df['written_off']==True,'arrhes_day']\n",
    "a2 = df2.loc[df['written_off']== False,'arrhes_day']\n",
    "# Group data together\n",
    "arrhes_data = [a1, a2]\n",
    "group_labels = ['chuners', 'none_churners']\n",
    "# Create distplot with custom bin_size\n",
    "fig = ff.create_distplot(arrhes_data, group_labels,\n",
    "                         curve_type='kde', show_hist=False, show_rug=False)\n",
    "# Add title\n",
    "fig['layout'].update(title='Arrhes days Distribution in Percent by churn status')\n",
    "fig['layout'].update(xaxis=dict(range=[15, 60], dtick=5))\n",
    "# Plot\n",
    "plot(fig, filename='Distplot with Multiple Datasets')"
   ]
  },
  {
   "cell_type": "markdown",
   "metadata": {},
   "source": [
    "### Pricing Program\n"
   ]
  },
  {
   "cell_type": "code",
   "execution_count": 31,
   "metadata": {},
   "outputs": [
    {
     "name": "stdout",
     "output_type": "stream",
     "text": [
      "3500.0      29121\n",
      "4250.0       6866\n",
      "4500.0       5606\n",
      "35000.0      1500\n",
      "140000.0      772\n",
      "12500.0       762\n",
      "1000.0        637\n",
      "13000.0       547\n",
      "41500.0       383\n",
      "22500.0       360\n",
      "130000.0      300\n",
      "8500.0        191\n",
      "3750.0        158\n",
      "82000.0        72\n",
      "9500.0          5\n",
      "5000.0          2\n",
      "139000.0        1\n",
      "Name: price_program, dtype: int64\n"
     ]
    }
   ],
   "source": [
    "print(df['price_program'].value_counts())"
   ]
  },
  {
   "cell_type": "code",
   "execution_count": 32,
   "metadata": {},
   "outputs": [
    {
     "data": {
      "text/plain": [
       "<matplotlib.axes._subplots.AxesSubplot at 0x12c349da240>"
      ]
     },
     "execution_count": 32,
     "metadata": {},
     "output_type": "execute_result"
    },
    {
     "data": {
      "image/png": "[encoded data removed]",
      "text/plain": [
       "<Figure size 1440x360 with 1 Axes>"
      ]
     },
     "metadata": {
      "needs_background": "light"
     },
     "output_type": "display_data"
    }
   ],
   "source": [
    "PriceProgram = pd.DataFrame(columns = ['price','% churned'])\n",
    "i=0\n",
    "for price in list(df['price_program'].unique()):\n",
    "    if df[df['price_program']==price].shape[0]:   \n",
    "        ratio = df[(df['price_program']==price)&(df['written_off']==True)].shape[0] / df[df['price_program']==price].shape[0]\n",
    "    PriceProgram.loc[i] = (price, ratio*100)\n",
    "    i += 1   \n",
    "df_Price= PriceProgram.groupby(by=\"price\").sum()\n",
    "df_Price.plot(kind ='bar',figsize=(20,5) )"
   ]
  },
  {
   "cell_type": "markdown",
   "metadata": {},
   "source": [
    "### Total amount paid"
   ]
  },
  {
   "cell_type": "code",
   "execution_count": 33,
   "metadata": {},
   "outputs": [
    {
     "data": {
      "text/plain": [
       "count     49693.000000\n",
       "mean      52136.546274\n",
       "std       40531.136709\n",
       "min           0.000000\n",
       "25%       17500.000000\n",
       "50%       45000.000000\n",
       "75%       80050.000000\n",
       "max      495273.000000\n",
       "Name: total_payed, dtype: float64"
      ]
     },
     "execution_count": 33,
     "metadata": {},
     "output_type": "execute_result"
    }
   ],
   "source": [
    "df['total_payed'].describe()"
   ]
  },
  {
   "cell_type": "code",
   "execution_count": 34,
   "metadata": {},
   "outputs": [
    {
     "name": "stderr",
     "output_type": "stream",
     "text": [
      "C:\\Users\\OSN-AN\\Anaconda3\\lib\\site-packages\\plotly\\offline\\offline.py:562: UserWarning:\n",
      "\n",
      "Your filename `Distplot with Multiple Datasets` didn't end with .html. Adding .html to the end of your file.\n",
      "\n"
     ]
    },
    {
     "data": {
      "text/plain": [
       "'Distplot with Multiple Datasets.html'"
      ]
     },
     "execution_count": 34,
     "metadata": {},
     "output_type": "execute_result"
    }
   ],
   "source": [
    "df2 = df.copy()\n",
    "df2.fillna(0,inplace = True)\n",
    "a1 = df2.loc[df['written_off']==True,'total_payed']\n",
    "a2 = df2.loc[df['written_off']== False,'total_payed']\n",
    "# Group data together\n",
    "TotalPayed = [a1, a2]\n",
    "group_labels = ['chuners', 'none_churners']\n",
    "# Create distplot with custom bin_size\n",
    "fig = ff.create_distplot(TotalPayed, group_labels,\n",
    "                         curve_type='kde', show_hist=False, show_rug=False)\n",
    "# Add title\n",
    "fig['layout'].update(title='Total amount payed Distribution in Percent by churn status')\n",
    "fig['layout'].update(xaxis=dict(range=[0, 300000], dtick=10000))\n",
    "# Plot\n",
    "plot(fig, filename='Distplot with Multiple Datasets')"
   ]
  },
  {
   "cell_type": "markdown",
   "metadata": {},
   "source": [
    "### Total Amount"
   ]
  },
  {
   "cell_type": "code",
   "execution_count": 35,
   "metadata": {},
   "outputs": [
    {
     "data": {
      "text/plain": [
       "count    4.969300e+04\n",
       "mean     1.199719e+05\n",
       "std      5.188140e+04\n",
       "min      5.800000e+03\n",
       "25%      1.020000e+05\n",
       "50%      1.260000e+05\n",
       "75%      1.260000e+05\n",
       "max      2.000000e+06\n",
       "Name: total_amount, dtype: float64"
      ]
     },
     "execution_count": 35,
     "metadata": {},
     "output_type": "execute_result"
    }
   ],
   "source": [
    "df['total_amount'].describe()"
   ]
  },
  {
   "cell_type": "code",
   "execution_count": 36,
   "metadata": {},
   "outputs": [
    {
     "name": "stderr",
     "output_type": "stream",
     "text": [
      "C:\\Users\\OSN-AN\\Anaconda3\\lib\\site-packages\\plotly\\offline\\offline.py:562: UserWarning:\n",
      "\n",
      "Your filename `Distplot with Multiple Datasets` didn't end with .html. Adding .html to the end of your file.\n",
      "\n"
     ]
    },
    {
     "data": {
      "text/plain": [
       "'Distplot with Multiple Datasets.html'"
      ]
     },
     "execution_count": 36,
     "metadata": {},
     "output_type": "execute_result"
    }
   ],
   "source": [
    "df2 = df.copy()\n",
    "df2.fillna(0,inplace = True)\n",
    "a1 = df2.loc[df['written_off']==True,'total_amount']\n",
    "a2 = df2.loc[df['written_off']== False,'total_amount']\n",
    "# Group data together\n",
    "TotalAmount = [a1, a2]\n",
    "group_labels = ['chuners', 'none_churners']\n",
    "# Create distplot with custom bin_size\n",
    "fig = ff.create_distplot(TotalAmount, group_labels,\n",
    "                         curve_type='kde', show_hist=False, show_rug=False)\n",
    "# Add title\n",
    "fig['layout'].update(title='Total amount to paid Distribution in Percent by churn status')\n",
    "fig['layout'].update(xaxis=dict(range=[0, 300000], dtick=10000))\n",
    "# Plot\n",
    "plot(fig, filename='Distplot with Multiple Datasets')"
   ]
  },
  {
   "cell_type": "markdown",
   "metadata": {},
   "source": [
    "### Mininum payment"
   ]
  },
  {
   "cell_type": "code",
   "execution_count": 37,
   "metadata": {},
   "outputs": [
    {
     "data": {
      "text/plain": [
       "count     10527.000000\n",
       "mean       3995.582787\n",
       "std       10351.365677\n",
       "min           0.000000\n",
       "25%           0.000000\n",
       "50%           0.000000\n",
       "75%         100.000000\n",
       "max      140000.000000\n",
       "Name: minimum_payment, dtype: float64"
      ]
     },
     "execution_count": 37,
     "metadata": {},
     "output_type": "execute_result"
    }
   ],
   "source": [
    "df['minimum_payment'].describe()"
   ]
  },
  {
   "cell_type": "code",
   "execution_count": 38,
   "metadata": {},
   "outputs": [
    {
     "name": "stderr",
     "output_type": "stream",
     "text": [
      "C:\\Users\\OSN-AN\\Anaconda3\\lib\\site-packages\\plotly\\offline\\offline.py:562: UserWarning:\n",
      "\n",
      "Your filename `Distplot with Multiple Datasets` didn't end with .html. Adding .html to the end of your file.\n",
      "\n"
     ]
    },
    {
     "data": {
      "text/plain": [
       "'Distplot with Multiple Datasets.html'"
      ]
     },
     "execution_count": 38,
     "metadata": {},
     "output_type": "execute_result"
    }
   ],
   "source": [
    "df2 = df.copy()\n",
    "df2.fillna(0,inplace = True)\n",
    "a1 = df2.loc[df['written_off']==True,'minimum_payment']\n",
    "a2 = df2.loc[df['written_off']== False,'minimum_payment']\n",
    "# Group data together\n",
    "minimum = [a1, a2]\n",
    "group_labels = ['chuners', 'none_churners']\n",
    "# Create distplot with custom bin_size\n",
    "fig = ff.create_distplot(minimum, group_labels,\n",
    "                         curve_type='kde', show_hist=False, show_rug=False)\n",
    "# Add title\n",
    "fig['layout'].update(title='Minimum payment Distribution in Percent by churn status')\n",
    "fig['layout'].update(xaxis=dict(range=[0, 2000], dtick=100))\n",
    "# Plot\n",
    "plot(fig, filename='Distplot with Multiple Datasets')"
   ]
  },
  {
   "cell_type": "markdown",
   "metadata": {},
   "source": [
    "### Cut off Days"
   ]
  },
  {
   "cell_type": "code",
   "execution_count": 39,
   "metadata": {},
   "outputs": [
    {
     "data": {
      "text/plain": [
       "count     49693.000000\n",
       "mean       -181.952006\n",
       "std        3755.730590\n",
       "min       -1135.430000\n",
       "25%        -457.500000\n",
       "50%           0.000000\n",
       "75%          12.000000\n",
       "max      834026.000000\n",
       "Name: cutoff_days, dtype: float64"
      ]
     },
     "execution_count": 39,
     "metadata": {},
     "output_type": "execute_result"
    }
   ],
   "source": [
    "df['cutoff_days'].describe()"
   ]
  },
  {
   "cell_type": "code",
   "execution_count": 40,
   "metadata": {},
   "outputs": [
    {
     "name": "stderr",
     "output_type": "stream",
     "text": [
      "C:\\Users\\OSN-AN\\Anaconda3\\lib\\site-packages\\plotly\\offline\\offline.py:562: UserWarning:\n",
      "\n",
      "Your filename `Distplot with Multiple Datasets` didn't end with .html. Adding .html to the end of your file.\n",
      "\n"
     ]
    },
    {
     "data": {
      "text/plain": [
       "'Distplot with Multiple Datasets.html'"
      ]
     },
     "execution_count": 40,
     "metadata": {},
     "output_type": "execute_result"
    }
   ],
   "source": [
    "df2 = df.copy()\n",
    "df2.fillna(0,inplace = True)\n",
    "a1 = df2.loc[df['written_off']==True,'cutoff_days']\n",
    "a2 = df2.loc[df['written_off']== False,'cutoff_days']\n",
    "# Group data together\n",
    "DaysCutoff = [a1, a2]\n",
    "group_labels = ['chuners', 'none_churners']\n",
    "# Create distplot with custom bin_size\n",
    "fig = ff.create_distplot(DaysCutoff, group_labels,\n",
    "                         curve_type='kde', show_hist=False, show_rug=False)\n",
    "# Add title\n",
    "fig['layout'].update(title='Cut off days  Distribution in Percent by churn status')\n",
    "fig['layout'].update(xaxis=dict(range=[-1000, 1000], dtick=100))\n",
    "# Plot\n",
    "plot(fig, filename='Distplot with Multiple Datasets')"
   ]
  },
  {
   "cell_type": "code",
   "execution_count": 41,
   "metadata": {},
   "outputs": [
    {
     "data": {
      "text/plain": [
       "Index(['account_id', 'account_number', 'status', 'arrhes_day', 'price_program',\n",
       "       'arrhes', 'total_amount', 'minimum_payment', 'gap', 'invoce_model',\n",
       "       'user_id', 'group_id', 'created_at', 'total_payed', 'next_payment',\n",
       "       'group_name', 'prev_payment', 'prev_account_number', 'slug',\n",
       "       'cutoff_days', 'register_by', 'day_disabled', 'written_off',\n",
       "       'written_off_at', 'expected_total_amount', 'repossessed_at',\n",
       "       'id_client', 'id_tenant', 'commune', 'region', 'country',\n",
       "       'account_status', 'product_type'],\n",
       "      dtype='object')"
      ]
     },
     "execution_count": 41,
     "metadata": {},
     "output_type": "execute_result"
    }
   ],
   "source": [
    "df.columns"
   ]
  },
  {
   "cell_type": "code",
   "execution_count": 42,
   "metadata": {},
   "outputs": [
    {
     "data": {
      "text/plain": [
       "count    49693.000000\n",
       "mean       130.138531\n",
       "std        181.456228\n",
       "min          0.000000\n",
       "25%          2.000000\n",
       "50%         38.000000\n",
       "75%        198.000000\n",
       "max        953.000000\n",
       "Name: day_disabled, dtype: float64"
      ]
     },
     "execution_count": 42,
     "metadata": {},
     "output_type": "execute_result"
    }
   ],
   "source": [
    "df['day_disabled'].describe()"
   ]
  },
  {
   "cell_type": "code",
   "execution_count": 43,
   "metadata": {},
   "outputs": [
    {
     "name": "stderr",
     "output_type": "stream",
     "text": [
      "C:\\Users\\OSN-AN\\Anaconda3\\lib\\site-packages\\plotly\\offline\\offline.py:562: UserWarning:\n",
      "\n",
      "Your filename `Distplot with Multiple Datasets` didn't end with .html. Adding .html to the end of your file.\n",
      "\n"
     ]
    },
    {
     "data": {
      "text/plain": [
       "'Distplot with Multiple Datasets.html'"
      ]
     },
     "execution_count": 43,
     "metadata": {},
     "output_type": "execute_result"
    }
   ],
   "source": [
    "df2 = df.copy()\n",
    "df2.fillna(0,inplace = True)\n",
    "a1 = df2.loc[df['written_off']==True,'day_disabled']\n",
    "a2 = df2.loc[df['written_off']== False,'day_disabled']\n",
    "# Group data together\n",
    "DayDisabled = [a1, a2]\n",
    "group_labels = ['chuners', 'none_churners']\n",
    "# Create distplot with custom bin_size\n",
    "fig = ff.create_distplot(DayDisabled, group_labels,\n",
    "                         curve_type='kde', show_hist=False, show_rug=False)\n",
    "# Add title\n",
    "fig['layout'].update(title='Days disabled Distribution in Percent by churn status')\n",
    "fig['layout'].update(xaxis=dict(range=[0, 1000], dtick=10))\n",
    "# Plot\n",
    "plot(fig, filename='Distplot with Multiple Datasets')"
   ]
  },
  {
   "cell_type": "code",
   "execution_count": 44,
   "metadata": {},
   "outputs": [
    {
     "data": {
      "text/plain": [
       "Index(['account_id', 'account_number', 'status', 'arrhes_day', 'price_program',\n",
       "       'arrhes', 'total_amount', 'minimum_payment', 'gap', 'invoce_model',\n",
       "       'user_id', 'group_id', 'created_at', 'total_payed', 'next_payment',\n",
       "       'group_name', 'prev_payment', 'prev_account_number', 'slug',\n",
       "       'cutoff_days', 'register_by', 'day_disabled', 'written_off',\n",
       "       'written_off_at', 'expected_total_amount', 'repossessed_at',\n",
       "       'id_client', 'id_tenant', 'commune', 'region', 'country',\n",
       "       'account_status', 'product_type'],\n",
       "      dtype='object')"
      ]
     },
     "execution_count": 44,
     "metadata": {},
     "output_type": "execute_result"
    }
   ],
   "source": [
    "df.columns"
   ]
  },
  {
   "cell_type": "markdown",
   "metadata": {},
   "source": [
    "## Conclusion about the Univariate and Bivariate Analysis"
   ]
  },
  {
   "cell_type": "code",
   "execution_count": null,
   "metadata": {},
   "outputs": [],
   "source": []
  },
  {
   "cell_type": "markdown",
   "metadata": {},
   "source": [
    "Let us now check whether the data our data dataset is balanced or not regarding the churned variable. The step will help us avoid overfitting or underfitteing"
   ]
  },
  {
   "cell_type": "code",
   "execution_count": 45,
   "metadata": {},
   "outputs": [
    {
     "name": "stdout",
     "output_type": "stream",
     "text": [
      "We have 34.751000 percent churn customers and 65.249000 percent active customers\n"
     ]
    }
   ],
   "source": [
    "churn = np.float(df['written_off'][df['written_off']==True].shape[0])\n",
    "churn=round(100*churn/df.shape[0],3)\n",
    "none_churn = 100-churn\n",
    "print('We have %(churn)f percent churn customers and %(none_churn)f percent active customers' %{\"churn\":churn,\"none_churn\":none_churn})"
   ]
  },
  {
   "cell_type": "code",
   "execution_count": null,
   "metadata": {},
   "outputs": [],
   "source": []
  },
  {
   "cell_type": "markdown",
   "metadata": {},
   "source": [
    "# Data Preparation"
   ]
  },
  {
   "cell_type": "markdown",
   "metadata": {},
   "source": [
    "# Features engineering & Missing values treatment"
   ]
  },
  {
   "cell_type": "code",
   "execution_count": 46,
   "metadata": {},
   "outputs": [],
   "source": [
    "df = df.drop(['next_payment','gap','minimum_payment','written_off_at','repossessed_at'], axis = 1)"
   ]
  },
  {
   "cell_type": "code",
   "execution_count": 47,
   "metadata": {},
   "outputs": [],
   "source": [
    "df['prev_payment']= df['prev_payment'].fillna(df['created_at'])"
   ]
  },
  {
   "cell_type": "code",
   "execution_count": 48,
   "metadata": {},
   "outputs": [],
   "source": [
    "df['replacement'] = ~df['account_number'].isnull() & ~df['prev_account_number'].isnull()\n",
    "df = df.drop(['account_number','prev_account_number'], axis = 1)"
   ]
  },
  {
   "cell_type": "code",
   "execution_count": 49,
   "metadata": {},
   "outputs": [],
   "source": [
    "df['created_at'] = pd.to_datetime(df['created_at'],errors='ignore')\n",
    "df['prev_payment'] = pd.to_datetime(df['prev_payment'],errors='ignore')"
   ]
  },
  {
   "cell_type": "code",
   "execution_count": 50,
   "metadata": {},
   "outputs": [],
   "source": [
    "#Let's set up the date we got the inputs (27/08/2019) to compute the Age of the customer account in month\n",
    "today= pd.to_datetime('2019-08-27')\n",
    "#fix_date = datetime.strptime(fix_date,'%Y-%m-%d')\n",
    "df['AccountAge'] = (today - df['created_at'])/np.timedelta64(1,'M')\n",
    "# Let's compute the number of days since the previous payment \n",
    "#and the days between the last and the next payment\n",
    "df['SinceLastPay'] = (today - df['prev_payment'])/np.timedelta64(1,'D')"
   ]
  },
  {
   "cell_type": "code",
   "execution_count": 51,
   "metadata": {},
   "outputs": [],
   "source": [
    "df = df.drop(['created_at','prev_payment'], axis = 1)"
   ]
  },
  {
   "cell_type": "code",
   "execution_count": 52,
   "metadata": {},
   "outputs": [],
   "source": [
    "#For arrhes_day,arrhes and price_program we can replace the missing values by 0\n",
    "df = df.fillna(0)"
   ]
  },
  {
   "cell_type": "code",
   "execution_count": 53,
   "metadata": {},
   "outputs": [
    {
     "data": {
      "text/plain": [
       "Index(['account_id', 'status', 'arrhes_day', 'price_program', 'arrhes',\n",
       "       'total_amount', 'invoce_model', 'user_id', 'group_id', 'total_payed',\n",
       "       'group_name', 'slug', 'cutoff_days', 'register_by', 'day_disabled',\n",
       "       'written_off', 'expected_total_amount', 'id_client', 'id_tenant',\n",
       "       'commune', 'region', 'country', 'account_status', 'product_type',\n",
       "       'replacement', 'AccountAge', 'SinceLastPay'],\n",
       "      dtype='object')"
      ]
     },
     "execution_count": 53,
     "metadata": {},
     "output_type": "execute_result"
    }
   ],
   "source": [
    "df.columns"
   ]
  },
  {
   "cell_type": "code",
   "execution_count": 54,
   "metadata": {},
   "outputs": [],
   "source": [
    "column = ['account_id', 'status', 'arrhes_day', 'price_program', 'arrhes',\n",
    "       'total_amount', 'invoce_model', 'total_payed',\n",
    "       'group_name', 'cutoff_days', 'day_disabled',\n",
    "       'written_off', 'id_tenant', 'product_type',\n",
    "       'replacement', 'AccountAge', 'SinceLastPay']"
   ]
  },
  {
   "cell_type": "code",
   "execution_count": 55,
   "metadata": {},
   "outputs": [],
   "source": [
    "df = df[column]"
   ]
  },
  {
   "cell_type": "code",
   "execution_count": 56,
   "metadata": {},
   "outputs": [
    {
     "data": {
      "text/plain": [
       "(49693, 17)"
      ]
     },
     "execution_count": 56,
     "metadata": {},
     "output_type": "execute_result"
    }
   ],
   "source": [
    "df.shape"
   ]
  },
  {
   "cell_type": "code",
   "execution_count": 57,
   "metadata": {},
   "outputs": [
    {
     "data": {
      "text/html": [
       "<div>\n",
       "<style scoped>\n",
       "    .dataframe tbody tr th:only-of-type {\n",
       "        vertical-align: middle;\n",
       "    }\n",
       "\n",
       "    .dataframe tbody tr th {\n",
       "        vertical-align: top;\n",
       "    }\n",
       "\n",
       "    .dataframe thead th {\n",
       "        text-align: right;\n",
       "    }\n",
       "</style>\n",
       "<table border=\"1\" class=\"dataframe\">\n",
       "  <thead>\n",
       "    <tr style=\"text-align: right;\">\n",
       "      <th></th>\n",
       "      <th>account_id</th>\n",
       "      <th>status</th>\n",
       "      <th>arrhes_day</th>\n",
       "      <th>price_program</th>\n",
       "      <th>arrhes</th>\n",
       "      <th>total_amount</th>\n",
       "      <th>invoce_model</th>\n",
       "      <th>total_payed</th>\n",
       "      <th>group_name</th>\n",
       "      <th>cutoff_days</th>\n",
       "      <th>day_disabled</th>\n",
       "      <th>written_off</th>\n",
       "      <th>id_tenant</th>\n",
       "      <th>product_type</th>\n",
       "      <th>replacement</th>\n",
       "      <th>AccountAge</th>\n",
       "      <th>SinceLastPay</th>\n",
       "    </tr>\n",
       "  </thead>\n",
       "  <tbody>\n",
       "    <tr>\n",
       "      <th>0</th>\n",
       "      <td>9898</td>\n",
       "      <td>0</td>\n",
       "      <td>30.0</td>\n",
       "      <td>3500.0</td>\n",
       "      <td>3500.0</td>\n",
       "      <td>126000</td>\n",
       "      <td>1</td>\n",
       "      <td>108200</td>\n",
       "      <td>PrePayee _3500/3500</td>\n",
       "      <td>18.0</td>\n",
       "      <td>10</td>\n",
       "      <td>False</td>\n",
       "      <td>1</td>\n",
       "      <td>Sun King Home 60 Easy Buy</td>\n",
       "      <td>False</td>\n",
       "      <td>30.201197</td>\n",
       "      <td>11.499234</td>\n",
       "    </tr>\n",
       "    <tr>\n",
       "      <th>1</th>\n",
       "      <td>12951</td>\n",
       "      <td>0</td>\n",
       "      <td>30.0</td>\n",
       "      <td>3500.0</td>\n",
       "      <td>3500.0</td>\n",
       "      <td>126000</td>\n",
       "      <td>1</td>\n",
       "      <td>107750</td>\n",
       "      <td>PrePayee _3500/3500</td>\n",
       "      <td>24.0</td>\n",
       "      <td>28</td>\n",
       "      <td>False</td>\n",
       "      <td>1</td>\n",
       "      <td>Sun King Home 60 Easy Buy</td>\n",
       "      <td>True</td>\n",
       "      <td>29.475715</td>\n",
       "      <td>5.699014</td>\n",
       "    </tr>\n",
       "    <tr>\n",
       "      <th>2</th>\n",
       "      <td>32338</td>\n",
       "      <td>0</td>\n",
       "      <td>30.0</td>\n",
       "      <td>3500.0</td>\n",
       "      <td>3500.0</td>\n",
       "      <td>126000</td>\n",
       "      <td>1</td>\n",
       "      <td>66500</td>\n",
       "      <td>PrePayee _3500/3500</td>\n",
       "      <td>1.0</td>\n",
       "      <td>27</td>\n",
       "      <td>False</td>\n",
       "      <td>1</td>\n",
       "      <td>Sun King Home 60 Easy Buy</td>\n",
       "      <td>True</td>\n",
       "      <td>19.564920</td>\n",
       "      <td>28.123058</td>\n",
       "    </tr>\n",
       "    <tr>\n",
       "      <th>3</th>\n",
       "      <td>12600</td>\n",
       "      <td>0</td>\n",
       "      <td>30.0</td>\n",
       "      <td>3500.0</td>\n",
       "      <td>3500.0</td>\n",
       "      <td>126000</td>\n",
       "      <td>1</td>\n",
       "      <td>105000</td>\n",
       "      <td>PrePayee _3500/3500</td>\n",
       "      <td>5.0</td>\n",
       "      <td>7</td>\n",
       "      <td>False</td>\n",
       "      <td>1</td>\n",
       "      <td>Sun King Home 60 Easy Buy</td>\n",
       "      <td>False</td>\n",
       "      <td>29.613549</td>\n",
       "      <td>24.147083</td>\n",
       "    </tr>\n",
       "    <tr>\n",
       "      <th>4</th>\n",
       "      <td>30986</td>\n",
       "      <td>1</td>\n",
       "      <td>30.0</td>\n",
       "      <td>4250.0</td>\n",
       "      <td>8500.0</td>\n",
       "      <td>106250</td>\n",
       "      <td>1</td>\n",
       "      <td>25500</td>\n",
       "      <td>PrePayee_8500/4250</td>\n",
       "      <td>-142.0</td>\n",
       "      <td>475</td>\n",
       "      <td>False</td>\n",
       "      <td>1</td>\n",
       "      <td>Sun King Home 60 Easy Buy</td>\n",
       "      <td>False</td>\n",
       "      <td>20.646899</td>\n",
       "      <td>171.140734</td>\n",
       "    </tr>\n",
       "  </tbody>\n",
       "</table>\n",
       "</div>"
      ],
      "text/plain": [
       "   account_id  status  arrhes_day  price_program  arrhes  total_amount  \\\n",
       "0        9898       0        30.0         3500.0  3500.0        126000   \n",
       "1       12951       0        30.0         3500.0  3500.0        126000   \n",
       "2       32338       0        30.0         3500.0  3500.0        126000   \n",
       "3       12600       0        30.0         3500.0  3500.0        126000   \n",
       "4       30986       1        30.0         4250.0  8500.0        106250   \n",
       "\n",
       "   invoce_model  total_payed           group_name  cutoff_days  day_disabled  \\\n",
       "0             1       108200  PrePayee _3500/3500         18.0            10   \n",
       "1             1       107750  PrePayee _3500/3500         24.0            28   \n",
       "2             1        66500  PrePayee _3500/3500          1.0            27   \n",
       "3             1       105000  PrePayee _3500/3500          5.0             7   \n",
       "4             1        25500   PrePayee_8500/4250       -142.0           475   \n",
       "\n",
       "   written_off  id_tenant               product_type  replacement  AccountAge  \\\n",
       "0        False          1  Sun King Home 60 Easy Buy        False   30.201197   \n",
       "1        False          1  Sun King Home 60 Easy Buy         True   29.475715   \n",
       "2        False          1  Sun King Home 60 Easy Buy         True   19.564920   \n",
       "3        False          1  Sun King Home 60 Easy Buy        False   29.613549   \n",
       "4        False          1  Sun King Home 60 Easy Buy        False   20.646899   \n",
       "\n",
       "   SinceLastPay  \n",
       "0     11.499234  \n",
       "1      5.699014  \n",
       "2     28.123058  \n",
       "3     24.147083  \n",
       "4    171.140734  "
      ]
     },
     "execution_count": 57,
     "metadata": {},
     "output_type": "execute_result"
    }
   ],
   "source": [
    "df.head()"
   ]
  },
  {
   "cell_type": "code",
   "execution_count": null,
   "metadata": {},
   "outputs": [],
   "source": []
  },
  {
   "cell_type": "code",
   "execution_count": 58,
   "metadata": {},
   "outputs": [],
   "source": [
    "var_num = [var for var in df.columns if df[var].dtypes in('float64','int64')]\n",
    "skew_var = df[var_num].skew().sort_values(ascending=False)\n",
    "skewness = pd.DataFrame({'Skew':skew_var})\n"
   ]
  },
  {
   "cell_type": "code",
   "execution_count": 59,
   "metadata": {},
   "outputs": [
    {
     "data": {
      "text/html": [
       "<div>\n",
       "<style scoped>\n",
       "    .dataframe tbody tr th:only-of-type {\n",
       "        vertical-align: middle;\n",
       "    }\n",
       "\n",
       "    .dataframe tbody tr th {\n",
       "        vertical-align: top;\n",
       "    }\n",
       "\n",
       "    .dataframe thead th {\n",
       "        text-align: right;\n",
       "    }\n",
       "</style>\n",
       "<table border=\"1\" class=\"dataframe\">\n",
       "  <thead>\n",
       "    <tr style=\"text-align: right;\">\n",
       "      <th></th>\n",
       "      <th>Skew</th>\n",
       "    </tr>\n",
       "  </thead>\n",
       "  <tbody>\n",
       "    <tr>\n",
       "      <th>cutoff_days</th>\n",
       "      <td>220.530873</td>\n",
       "    </tr>\n",
       "    <tr>\n",
       "      <th>total_amount</th>\n",
       "      <td>6.063235</td>\n",
       "    </tr>\n",
       "    <tr>\n",
       "      <th>price_program</th>\n",
       "      <td>5.558672</td>\n",
       "    </tr>\n",
       "    <tr>\n",
       "      <th>arrhes</th>\n",
       "      <td>4.497674</td>\n",
       "    </tr>\n",
       "    <tr>\n",
       "      <th>arrhes_day</th>\n",
       "      <td>3.382664</td>\n",
       "    </tr>\n",
       "    <tr>\n",
       "      <th>id_tenant</th>\n",
       "      <td>2.156816</td>\n",
       "    </tr>\n",
       "    <tr>\n",
       "      <th>day_disabled</th>\n",
       "      <td>1.609804</td>\n",
       "    </tr>\n",
       "    <tr>\n",
       "      <th>total_payed</th>\n",
       "      <td>1.308107</td>\n",
       "    </tr>\n",
       "    <tr>\n",
       "      <th>SinceLastPay</th>\n",
       "      <td>0.861621</td>\n",
       "    </tr>\n",
       "    <tr>\n",
       "      <th>status</th>\n",
       "      <td>0.376118</td>\n",
       "    </tr>\n",
       "    <tr>\n",
       "      <th>account_id</th>\n",
       "      <td>0.000714</td>\n",
       "    </tr>\n",
       "    <tr>\n",
       "      <th>invoce_model</th>\n",
       "      <td>-0.370612</td>\n",
       "    </tr>\n",
       "    <tr>\n",
       "      <th>AccountAge</th>\n",
       "      <td>-0.661904</td>\n",
       "    </tr>\n",
       "  </tbody>\n",
       "</table>\n",
       "</div>"
      ],
      "text/plain": [
       "                     Skew\n",
       "cutoff_days    220.530873\n",
       "total_amount     6.063235\n",
       "price_program    5.558672\n",
       "arrhes           4.497674\n",
       "arrhes_day       3.382664\n",
       "id_tenant        2.156816\n",
       "day_disabled     1.609804\n",
       "total_payed      1.308107\n",
       "SinceLastPay     0.861621\n",
       "status           0.376118\n",
       "account_id       0.000714\n",
       "invoce_model    -0.370612\n",
       "AccountAge      -0.661904"
      ]
     },
     "execution_count": 59,
     "metadata": {},
     "output_type": "execute_result"
    }
   ],
   "source": [
    "skewness"
   ]
  },
  {
   "cell_type": "code",
   "execution_count": 60,
   "metadata": {},
   "outputs": [
    {
     "data": {
      "text/plain": [
       "<matplotlib.axes._subplots.AxesSubplot at 0x12c33ca27f0>"
      ]
     },
     "execution_count": 60,
     "metadata": {},
     "output_type": "execute_result"
    },
    {
     "data": {
      "image/png": "[encoded data removed]",
      "text/plain": [
       "<Figure size 432x288 with 1 Axes>"
      ]
     },
     "metadata": {
      "needs_background": "light"
     },
     "output_type": "display_data"
    }
   ],
   "source": [
    "df['AccountAge'].hist()"
   ]
  },
  {
   "cell_type": "markdown",
   "metadata": {},
   "source": [
    "## Variable encoding"
   ]
  },
  {
   "cell_type": "code",
   "execution_count": null,
   "metadata": {},
   "outputs": [],
   "source": []
  },
  {
   "cell_type": "code",
   "execution_count": 61,
   "metadata": {},
   "outputs": [],
   "source": [
    "# Label Encoding the binary variables \n",
    "for col in df.select_dtypes(include = ['object']).columns[1:]:\n",
    "    if len(list(df[col].unique()))<=2:\n",
    "        LabelEncoder.fit(df[col])\n",
    "        df[col]= labelEncoder.transform(df[col])\n",
    "# One Hot encoding the categorical variables with more than 2 labels\n",
    "df  = pd.get_dummies(df, drop_first= 'true')"
   ]
  },
  {
   "cell_type": "code",
   "execution_count": 62,
   "metadata": {},
   "outputs": [
    {
     "data": {
      "text/plain": [
       "(49693, 72)"
      ]
     },
     "execution_count": 62,
     "metadata": {},
     "output_type": "execute_result"
    }
   ],
   "source": [
    "df.shape"
   ]
  },
  {
   "cell_type": "code",
   "execution_count": 63,
   "metadata": {},
   "outputs": [
    {
     "data": {
      "text/html": [
       "<div>\n",
       "<style scoped>\n",
       "    .dataframe tbody tr th:only-of-type {\n",
       "        vertical-align: middle;\n",
       "    }\n",
       "\n",
       "    .dataframe tbody tr th {\n",
       "        vertical-align: top;\n",
       "    }\n",
       "\n",
       "    .dataframe thead th {\n",
       "        text-align: right;\n",
       "    }\n",
       "</style>\n",
       "<table border=\"1\" class=\"dataframe\">\n",
       "  <thead>\n",
       "    <tr style=\"text-align: right;\">\n",
       "      <th></th>\n",
       "      <th>account_id</th>\n",
       "      <th>status</th>\n",
       "      <th>arrhes_day</th>\n",
       "      <th>price_program</th>\n",
       "      <th>arrhes</th>\n",
       "      <th>total_amount</th>\n",
       "      <th>invoce_model</th>\n",
       "      <th>total_payed</th>\n",
       "      <th>cutoff_days</th>\n",
       "      <th>day_disabled</th>\n",
       "      <th>written_off</th>\n",
       "      <th>id_tenant</th>\n",
       "      <th>replacement</th>\n",
       "      <th>AccountAge</th>\n",
       "      <th>SinceLastPay</th>\n",
       "      <th>group_name_Caution 5000</th>\n",
       "      <th>group_name_Chef 4500/4500</th>\n",
       "      <th>group_name_Chef_PrePayee_0/3500</th>\n",
       "      <th>group_name_Chef_PrePayee_4250/4250</th>\n",
       "      <th>group_name_PAYG - GIE Sunu Yaye / 5000</th>\n",
       "      <th>group_name_PAYG 9000/4500</th>\n",
       "      <th>group_name_PAYG Cash Sales - 70000</th>\n",
       "      <th>group_name_Paiement Annuel 35 000 / 35 000</th>\n",
       "      <th>group_name_Pilot Mbour - 3500/3500</th>\n",
       "      <th>group_name_PrePayee _3500/3500</th>\n",
       "      <th>group_name_PrePayee_8500/4250</th>\n",
       "      <th>group_name_Rechargeable Hair Clipper</th>\n",
       "      <th>group_name_SolarFAN - Cash - NGR</th>\n",
       "      <th>group_name_Vente Annuelle (41500 x 2)</th>\n",
       "      <th>group_name_WOW60 Annuel - 41500x2</th>\n",
       "      <th>group_name_WOW60 Cash - 70000</th>\n",
       "      <th>group_name_WOW60 Mensuel - 8500/4250</th>\n",
       "      <th>group_name_WOW60 Promotion Annuel - 35000x2</th>\n",
       "      <th>group_name_WOW60 Promotion Cash - 60000</th>\n",
       "      <th>group_name_WowSolar TV - Cash 255000</th>\n",
       "      <th>group_name_WowSolar TV Annuel - 140000x2</th>\n",
       "      <th>group_name_WowSolar TV Mensuel - 55500/12500</th>\n",
       "      <th>group_name_WowSolar TV Promotion Cash -  220000</th>\n",
       "      <th>group_name_WowSolar100 - 7500/3750 - NGR</th>\n",
       "      <th>group_name_WowSolar100 - Annual - NGR</th>\n",
       "      <th>group_name_WowSolar100 - Cash - NGR</th>\n",
       "      <th>group_name_WowSolar100 - Monthly - NGR</th>\n",
       "      <th>group_name_WowSolar60 - Annuel - BF</th>\n",
       "      <th>group_name_WowSolar60 - Annuel - ML</th>\n",
       "      <th>group_name_WowSolar60 - Cash - BF</th>\n",
       "      <th>group_name_WowSolar60 - Cash - ML</th>\n",
       "      <th>group_name_WowSolar60 - Mensuel - BF</th>\n",
       "      <th>group_name_WowSolar60 - Mensuel - ML</th>\n",
       "      <th>group_name_WowSolar60 - chef - BF</th>\n",
       "      <th>group_name_WowSolar60_Annuelle 41500x2</th>\n",
       "      <th>group_name_WowSolar60_Mensuelle 8500/4250</th>\n",
       "      <th>group_name_WowSolar60_Vente 70,000CFA</th>\n",
       "      <th>group_name_WowSolarTV - Annuel - BF</th>\n",
       "      <th>group_name_WowSolarTV - Annuel - ML</th>\n",
       "      <th>group_name_WowSolarTV - Annuel - NGR</th>\n",
       "      <th>group_name_WowSolarTV - Annuité - SN</th>\n",
       "      <th>group_name_WowSolarTV - Cash - BF</th>\n",
       "      <th>group_name_WowSolarTV - Cash - ML</th>\n",
       "      <th>group_name_WowSolarTV - Cash - NGR</th>\n",
       "      <th>group_name_WowSolarTV - Cash - SN</th>\n",
       "      <th>group_name_WowSolarTV - Mensualité - GIE Sunu yaye - SN</th>\n",
       "      <th>group_name_WowSolarTV - Mensuel - BF</th>\n",
       "      <th>group_name_WowSolarTV - Mensuel - ML</th>\n",
       "      <th>group_name_WowSolarTV - Mensuel - SN</th>\n",
       "      <th>group_name_WowSolarTV - Mensuel Pilote - BF</th>\n",
       "      <th>group_name_WowSolarTV - Monthly - NGR</th>\n",
       "      <th>group_name_chef - 4500/4500</th>\n",
       "      <th>product_type_Solar Fan</th>\n",
       "      <th>product_type_Sun King Home 60 Easy Buy</th>\n",
       "      <th>product_type_WowSolar100</th>\n",
       "      <th>product_type_WowSolar60</th>\n",
       "      <th>product_type_WowSolarTV19</th>\n",
       "    </tr>\n",
       "  </thead>\n",
       "  <tbody>\n",
       "    <tr>\n",
       "      <th>0</th>\n",
       "      <td>9898</td>\n",
       "      <td>0</td>\n",
       "      <td>30.0</td>\n",
       "      <td>3500.0</td>\n",
       "      <td>3500.0</td>\n",
       "      <td>126000</td>\n",
       "      <td>1</td>\n",
       "      <td>108200</td>\n",
       "      <td>18.0</td>\n",
       "      <td>10</td>\n",
       "      <td>False</td>\n",
       "      <td>1</td>\n",
       "      <td>False</td>\n",
       "      <td>30.201197</td>\n",
       "      <td>11.499234</td>\n",
       "      <td>0</td>\n",
       "      <td>0</td>\n",
       "      <td>0</td>\n",
       "      <td>0</td>\n",
       "      <td>0</td>\n",
       "      <td>0</td>\n",
       "      <td>0</td>\n",
       "      <td>0</td>\n",
       "      <td>0</td>\n",
       "      <td>1</td>\n",
       "      <td>0</td>\n",
       "      <td>0</td>\n",
       "      <td>0</td>\n",
       "      <td>0</td>\n",
       "      <td>0</td>\n",
       "      <td>0</td>\n",
       "      <td>0</td>\n",
       "      <td>0</td>\n",
       "      <td>0</td>\n",
       "      <td>0</td>\n",
       "      <td>0</td>\n",
       "      <td>0</td>\n",
       "      <td>0</td>\n",
       "      <td>0</td>\n",
       "      <td>0</td>\n",
       "      <td>0</td>\n",
       "      <td>0</td>\n",
       "      <td>0</td>\n",
       "      <td>0</td>\n",
       "      <td>0</td>\n",
       "      <td>0</td>\n",
       "      <td>0</td>\n",
       "      <td>0</td>\n",
       "      <td>0</td>\n",
       "      <td>0</td>\n",
       "      <td>0</td>\n",
       "      <td>0</td>\n",
       "      <td>0</td>\n",
       "      <td>0</td>\n",
       "      <td>0</td>\n",
       "      <td>0</td>\n",
       "      <td>0</td>\n",
       "      <td>0</td>\n",
       "      <td>0</td>\n",
       "      <td>0</td>\n",
       "      <td>0</td>\n",
       "      <td>0</td>\n",
       "      <td>0</td>\n",
       "      <td>0</td>\n",
       "      <td>0</td>\n",
       "      <td>0</td>\n",
       "      <td>0</td>\n",
       "      <td>0</td>\n",
       "      <td>1</td>\n",
       "      <td>0</td>\n",
       "      <td>0</td>\n",
       "      <td>0</td>\n",
       "    </tr>\n",
       "    <tr>\n",
       "      <th>1</th>\n",
       "      <td>12951</td>\n",
       "      <td>0</td>\n",
       "      <td>30.0</td>\n",
       "      <td>3500.0</td>\n",
       "      <td>3500.0</td>\n",
       "      <td>126000</td>\n",
       "      <td>1</td>\n",
       "      <td>107750</td>\n",
       "      <td>24.0</td>\n",
       "      <td>28</td>\n",
       "      <td>False</td>\n",
       "      <td>1</td>\n",
       "      <td>True</td>\n",
       "      <td>29.475715</td>\n",
       "      <td>5.699014</td>\n",
       "      <td>0</td>\n",
       "      <td>0</td>\n",
       "      <td>0</td>\n",
       "      <td>0</td>\n",
       "      <td>0</td>\n",
       "      <td>0</td>\n",
       "      <td>0</td>\n",
       "      <td>0</td>\n",
       "      <td>0</td>\n",
       "      <td>1</td>\n",
       "      <td>0</td>\n",
       "      <td>0</td>\n",
       "      <td>0</td>\n",
       "      <td>0</td>\n",
       "      <td>0</td>\n",
       "      <td>0</td>\n",
       "      <td>0</td>\n",
       "      <td>0</td>\n",
       "      <td>0</td>\n",
       "      <td>0</td>\n",
       "      <td>0</td>\n",
       "      <td>0</td>\n",
       "      <td>0</td>\n",
       "      <td>0</td>\n",
       "      <td>0</td>\n",
       "      <td>0</td>\n",
       "      <td>0</td>\n",
       "      <td>0</td>\n",
       "      <td>0</td>\n",
       "      <td>0</td>\n",
       "      <td>0</td>\n",
       "      <td>0</td>\n",
       "      <td>0</td>\n",
       "      <td>0</td>\n",
       "      <td>0</td>\n",
       "      <td>0</td>\n",
       "      <td>0</td>\n",
       "      <td>0</td>\n",
       "      <td>0</td>\n",
       "      <td>0</td>\n",
       "      <td>0</td>\n",
       "      <td>0</td>\n",
       "      <td>0</td>\n",
       "      <td>0</td>\n",
       "      <td>0</td>\n",
       "      <td>0</td>\n",
       "      <td>0</td>\n",
       "      <td>0</td>\n",
       "      <td>0</td>\n",
       "      <td>0</td>\n",
       "      <td>0</td>\n",
       "      <td>0</td>\n",
       "      <td>0</td>\n",
       "      <td>1</td>\n",
       "      <td>0</td>\n",
       "      <td>0</td>\n",
       "      <td>0</td>\n",
       "    </tr>\n",
       "    <tr>\n",
       "      <th>2</th>\n",
       "      <td>32338</td>\n",
       "      <td>0</td>\n",
       "      <td>30.0</td>\n",
       "      <td>3500.0</td>\n",
       "      <td>3500.0</td>\n",
       "      <td>126000</td>\n",
       "      <td>1</td>\n",
       "      <td>66500</td>\n",
       "      <td>1.0</td>\n",
       "      <td>27</td>\n",
       "      <td>False</td>\n",
       "      <td>1</td>\n",
       "      <td>True</td>\n",
       "      <td>19.564920</td>\n",
       "      <td>28.123058</td>\n",
       "      <td>0</td>\n",
       "      <td>0</td>\n",
       "      <td>0</td>\n",
       "      <td>0</td>\n",
       "      <td>0</td>\n",
       "      <td>0</td>\n",
       "      <td>0</td>\n",
       "      <td>0</td>\n",
       "      <td>0</td>\n",
       "      <td>1</td>\n",
       "      <td>0</td>\n",
       "      <td>0</td>\n",
       "      <td>0</td>\n",
       "      <td>0</td>\n",
       "      <td>0</td>\n",
       "      <td>0</td>\n",
       "      <td>0</td>\n",
       "      <td>0</td>\n",
       "      <td>0</td>\n",
       "      <td>0</td>\n",
       "      <td>0</td>\n",
       "      <td>0</td>\n",
       "      <td>0</td>\n",
       "      <td>0</td>\n",
       "      <td>0</td>\n",
       "      <td>0</td>\n",
       "      <td>0</td>\n",
       "      <td>0</td>\n",
       "      <td>0</td>\n",
       "      <td>0</td>\n",
       "      <td>0</td>\n",
       "      <td>0</td>\n",
       "      <td>0</td>\n",
       "      <td>0</td>\n",
       "      <td>0</td>\n",
       "      <td>0</td>\n",
       "      <td>0</td>\n",
       "      <td>0</td>\n",
       "      <td>0</td>\n",
       "      <td>0</td>\n",
       "      <td>0</td>\n",
       "      <td>0</td>\n",
       "      <td>0</td>\n",
       "      <td>0</td>\n",
       "      <td>0</td>\n",
       "      <td>0</td>\n",
       "      <td>0</td>\n",
       "      <td>0</td>\n",
       "      <td>0</td>\n",
       "      <td>0</td>\n",
       "      <td>0</td>\n",
       "      <td>0</td>\n",
       "      <td>0</td>\n",
       "      <td>1</td>\n",
       "      <td>0</td>\n",
       "      <td>0</td>\n",
       "      <td>0</td>\n",
       "    </tr>\n",
       "    <tr>\n",
       "      <th>3</th>\n",
       "      <td>12600</td>\n",
       "      <td>0</td>\n",
       "      <td>30.0</td>\n",
       "      <td>3500.0</td>\n",
       "      <td>3500.0</td>\n",
       "      <td>126000</td>\n",
       "      <td>1</td>\n",
       "      <td>105000</td>\n",
       "      <td>5.0</td>\n",
       "      <td>7</td>\n",
       "      <td>False</td>\n",
       "      <td>1</td>\n",
       "      <td>False</td>\n",
       "      <td>29.613549</td>\n",
       "      <td>24.147083</td>\n",
       "      <td>0</td>\n",
       "      <td>0</td>\n",
       "      <td>0</td>\n",
       "      <td>0</td>\n",
       "      <td>0</td>\n",
       "      <td>0</td>\n",
       "      <td>0</td>\n",
       "      <td>0</td>\n",
       "      <td>0</td>\n",
       "      <td>1</td>\n",
       "      <td>0</td>\n",
       "      <td>0</td>\n",
       "      <td>0</td>\n",
       "      <td>0</td>\n",
       "      <td>0</td>\n",
       "      <td>0</td>\n",
       "      <td>0</td>\n",
       "      <td>0</td>\n",
       "      <td>0</td>\n",
       "      <td>0</td>\n",
       "      <td>0</td>\n",
       "      <td>0</td>\n",
       "      <td>0</td>\n",
       "      <td>0</td>\n",
       "      <td>0</td>\n",
       "      <td>0</td>\n",
       "      <td>0</td>\n",
       "      <td>0</td>\n",
       "      <td>0</td>\n",
       "      <td>0</td>\n",
       "      <td>0</td>\n",
       "      <td>0</td>\n",
       "      <td>0</td>\n",
       "      <td>0</td>\n",
       "      <td>0</td>\n",
       "      <td>0</td>\n",
       "      <td>0</td>\n",
       "      <td>0</td>\n",
       "      <td>0</td>\n",
       "      <td>0</td>\n",
       "      <td>0</td>\n",
       "      <td>0</td>\n",
       "      <td>0</td>\n",
       "      <td>0</td>\n",
       "      <td>0</td>\n",
       "      <td>0</td>\n",
       "      <td>0</td>\n",
       "      <td>0</td>\n",
       "      <td>0</td>\n",
       "      <td>0</td>\n",
       "      <td>0</td>\n",
       "      <td>0</td>\n",
       "      <td>0</td>\n",
       "      <td>1</td>\n",
       "      <td>0</td>\n",
       "      <td>0</td>\n",
       "      <td>0</td>\n",
       "    </tr>\n",
       "    <tr>\n",
       "      <th>4</th>\n",
       "      <td>30986</td>\n",
       "      <td>1</td>\n",
       "      <td>30.0</td>\n",
       "      <td>4250.0</td>\n",
       "      <td>8500.0</td>\n",
       "      <td>106250</td>\n",
       "      <td>1</td>\n",
       "      <td>25500</td>\n",
       "      <td>-142.0</td>\n",
       "      <td>475</td>\n",
       "      <td>False</td>\n",
       "      <td>1</td>\n",
       "      <td>False</td>\n",
       "      <td>20.646899</td>\n",
       "      <td>171.140734</td>\n",
       "      <td>0</td>\n",
       "      <td>0</td>\n",
       "      <td>0</td>\n",
       "      <td>0</td>\n",
       "      <td>0</td>\n",
       "      <td>0</td>\n",
       "      <td>0</td>\n",
       "      <td>0</td>\n",
       "      <td>0</td>\n",
       "      <td>0</td>\n",
       "      <td>1</td>\n",
       "      <td>0</td>\n",
       "      <td>0</td>\n",
       "      <td>0</td>\n",
       "      <td>0</td>\n",
       "      <td>0</td>\n",
       "      <td>0</td>\n",
       "      <td>0</td>\n",
       "      <td>0</td>\n",
       "      <td>0</td>\n",
       "      <td>0</td>\n",
       "      <td>0</td>\n",
       "      <td>0</td>\n",
       "      <td>0</td>\n",
       "      <td>0</td>\n",
       "      <td>0</td>\n",
       "      <td>0</td>\n",
       "      <td>0</td>\n",
       "      <td>0</td>\n",
       "      <td>0</td>\n",
       "      <td>0</td>\n",
       "      <td>0</td>\n",
       "      <td>0</td>\n",
       "      <td>0</td>\n",
       "      <td>0</td>\n",
       "      <td>0</td>\n",
       "      <td>0</td>\n",
       "      <td>0</td>\n",
       "      <td>0</td>\n",
       "      <td>0</td>\n",
       "      <td>0</td>\n",
       "      <td>0</td>\n",
       "      <td>0</td>\n",
       "      <td>0</td>\n",
       "      <td>0</td>\n",
       "      <td>0</td>\n",
       "      <td>0</td>\n",
       "      <td>0</td>\n",
       "      <td>0</td>\n",
       "      <td>0</td>\n",
       "      <td>0</td>\n",
       "      <td>0</td>\n",
       "      <td>0</td>\n",
       "      <td>1</td>\n",
       "      <td>0</td>\n",
       "      <td>0</td>\n",
       "      <td>0</td>\n",
       "    </tr>\n",
       "  </tbody>\n",
       "</table>\n",
       "</div>"
      ],
      "text/plain": [
       "   account_id  status  arrhes_day  price_program  arrhes  total_amount  \\\n",
       "0        9898       0        30.0         3500.0  3500.0        126000   \n",
       "1       12951       0        30.0         3500.0  3500.0        126000   \n",
       "2       32338       0        30.0         3500.0  3500.0        126000   \n",
       "3       12600       0        30.0         3500.0  3500.0        126000   \n",
       "4       30986       1        30.0         4250.0  8500.0        106250   \n",
       "\n",
       "   invoce_model  total_payed  cutoff_days  day_disabled  written_off  \\\n",
       "0             1       108200         18.0            10        False   \n",
       "1             1       107750         24.0            28        False   \n",
       "2             1        66500          1.0            27        False   \n",
       "3             1       105000          5.0             7        False   \n",
       "4             1        25500       -142.0           475        False   \n",
       "\n",
       "   id_tenant  replacement  AccountAge  SinceLastPay  group_name_Caution 5000  \\\n",
       "0          1        False   30.201197     11.499234                        0   \n",
       "1          1         True   29.475715      5.699014                        0   \n",
       "2          1         True   19.564920     28.123058                        0   \n",
       "3          1        False   29.613549     24.147083                        0   \n",
       "4          1        False   20.646899    171.140734                        0   \n",
       "\n",
       "   group_name_Chef 4500/4500  group_name_Chef_PrePayee_0/3500  \\\n",
       "0                          0                                0   \n",
       "1                          0                                0   \n",
       "2                          0                                0   \n",
       "3                          0                                0   \n",
       "4                          0                                0   \n",
       "\n",
       "   group_name_Chef_PrePayee_4250/4250  group_name_PAYG - GIE Sunu Yaye / 5000  \\\n",
       "0                                   0                                       0   \n",
       "1                                   0                                       0   \n",
       "2                                   0                                       0   \n",
       "3                                   0                                       0   \n",
       "4                                   0                                       0   \n",
       "\n",
       "   group_name_PAYG 9000/4500  group_name_PAYG Cash Sales - 70000  \\\n",
       "0                          0                                   0   \n",
       "1                          0                                   0   \n",
       "2                          0                                   0   \n",
       "3                          0                                   0   \n",
       "4                          0                                   0   \n",
       "\n",
       "   group_name_Paiement Annuel 35 000 / 35 000  \\\n",
       "0                                           0   \n",
       "1                                           0   \n",
       "2                                           0   \n",
       "3                                           0   \n",
       "4                                           0   \n",
       "\n",
       "   group_name_Pilot Mbour - 3500/3500  group_name_PrePayee _3500/3500  \\\n",
       "0                                   0                               1   \n",
       "1                                   0                               1   \n",
       "2                                   0                               1   \n",
       "3                                   0                               1   \n",
       "4                                   0                               0   \n",
       "\n",
       "   group_name_PrePayee_8500/4250  group_name_Rechargeable Hair Clipper  \\\n",
       "0                              0                                     0   \n",
       "1                              0                                     0   \n",
       "2                              0                                     0   \n",
       "3                              0                                     0   \n",
       "4                              1                                     0   \n",
       "\n",
       "   group_name_SolarFAN - Cash - NGR  group_name_Vente Annuelle (41500 x 2)  \\\n",
       "0                                 0                                      0   \n",
       "1                                 0                                      0   \n",
       "2                                 0                                      0   \n",
       "3                                 0                                      0   \n",
       "4                                 0                                      0   \n",
       "\n",
       "   group_name_WOW60 Annuel - 41500x2  group_name_WOW60 Cash - 70000  \\\n",
       "0                                  0                              0   \n",
       "1                                  0                              0   \n",
       "2                                  0                              0   \n",
       "3                                  0                              0   \n",
       "4                                  0                              0   \n",
       "\n",
       "   group_name_WOW60 Mensuel - 8500/4250  \\\n",
       "0                                     0   \n",
       "1                                     0   \n",
       "2                                     0   \n",
       "3                                     0   \n",
       "4                                     0   \n",
       "\n",
       "   group_name_WOW60 Promotion Annuel - 35000x2  \\\n",
       "0                                            0   \n",
       "1                                            0   \n",
       "2                                            0   \n",
       "3                                            0   \n",
       "4                                            0   \n",
       "\n",
       "   group_name_WOW60 Promotion Cash - 60000  \\\n",
       "0                                        0   \n",
       "1                                        0   \n",
       "2                                        0   \n",
       "3                                        0   \n",
       "4                                        0   \n",
       "\n",
       "   group_name_WowSolar TV - Cash 255000  \\\n",
       "0                                     0   \n",
       "1                                     0   \n",
       "2                                     0   \n",
       "3                                     0   \n",
       "4                                     0   \n",
       "\n",
       "   group_name_WowSolar TV Annuel - 140000x2  \\\n",
       "0                                         0   \n",
       "1                                         0   \n",
       "2                                         0   \n",
       "3                                         0   \n",
       "4                                         0   \n",
       "\n",
       "   group_name_WowSolar TV Mensuel - 55500/12500  \\\n",
       "0                                             0   \n",
       "1                                             0   \n",
       "2                                             0   \n",
       "3                                             0   \n",
       "4                                             0   \n",
       "\n",
       "   group_name_WowSolar TV Promotion Cash -  220000  \\\n",
       "0                                                0   \n",
       "1                                                0   \n",
       "2                                                0   \n",
       "3                                                0   \n",
       "4                                                0   \n",
       "\n",
       "   group_name_WowSolar100 - 7500/3750 - NGR  \\\n",
       "0                                         0   \n",
       "1                                         0   \n",
       "2                                         0   \n",
       "3                                         0   \n",
       "4                                         0   \n",
       "\n",
       "   group_name_WowSolar100 - Annual - NGR  group_name_WowSolar100 - Cash - NGR  \\\n",
       "0                                      0                                    0   \n",
       "1                                      0                                    0   \n",
       "2                                      0                                    0   \n",
       "3                                      0                                    0   \n",
       "4                                      0                                    0   \n",
       "\n",
       "   group_name_WowSolar100 - Monthly - NGR  \\\n",
       "0                                       0   \n",
       "1                                       0   \n",
       "2                                       0   \n",
       "3                                       0   \n",
       "4                                       0   \n",
       "\n",
       "   group_name_WowSolar60 - Annuel - BF  group_name_WowSolar60 - Annuel - ML  \\\n",
       "0                                    0                                    0   \n",
       "1                                    0                                    0   \n",
       "2                                    0                                    0   \n",
       "3                                    0                                    0   \n",
       "4                                    0                                    0   \n",
       "\n",
       "   group_name_WowSolar60 - Cash - BF  group_name_WowSolar60 - Cash - ML  \\\n",
       "0                                  0                                  0   \n",
       "1                                  0                                  0   \n",
       "2                                  0                                  0   \n",
       "3                                  0                                  0   \n",
       "4                                  0                                  0   \n",
       "\n",
       "   group_name_WowSolar60 - Mensuel - BF  group_name_WowSolar60 - Mensuel - ML  \\\n",
       "0                                     0                                     0   \n",
       "1                                     0                                     0   \n",
       "2                                     0                                     0   \n",
       "3                                     0                                     0   \n",
       "4                                     0                                     0   \n",
       "\n",
       "   group_name_WowSolar60 - chef - BF  group_name_WowSolar60_Annuelle 41500x2  \\\n",
       "0                                  0                                       0   \n",
       "1                                  0                                       0   \n",
       "2                                  0                                       0   \n",
       "3                                  0                                       0   \n",
       "4                                  0                                       0   \n",
       "\n",
       "   group_name_WowSolar60_Mensuelle 8500/4250  \\\n",
       "0                                          0   \n",
       "1                                          0   \n",
       "2                                          0   \n",
       "3                                          0   \n",
       "4                                          0   \n",
       "\n",
       "   group_name_WowSolar60_Vente 70,000CFA  group_name_WowSolarTV - Annuel - BF  \\\n",
       "0                                      0                                    0   \n",
       "1                                      0                                    0   \n",
       "2                                      0                                    0   \n",
       "3                                      0                                    0   \n",
       "4                                      0                                    0   \n",
       "\n",
       "   group_name_WowSolarTV - Annuel - ML  group_name_WowSolarTV - Annuel - NGR  \\\n",
       "0                                    0                                     0   \n",
       "1                                    0                                     0   \n",
       "2                                    0                                     0   \n",
       "3                                    0                                     0   \n",
       "4                                    0                                     0   \n",
       "\n",
       "   group_name_WowSolarTV - Annuité - SN  group_name_WowSolarTV - Cash - BF  \\\n",
       "0                                     0                                  0   \n",
       "1                                     0                                  0   \n",
       "2                                     0                                  0   \n",
       "3                                     0                                  0   \n",
       "4                                     0                                  0   \n",
       "\n",
       "   group_name_WowSolarTV - Cash - ML  group_name_WowSolarTV - Cash - NGR  \\\n",
       "0                                  0                                   0   \n",
       "1                                  0                                   0   \n",
       "2                                  0                                   0   \n",
       "3                                  0                                   0   \n",
       "4                                  0                                   0   \n",
       "\n",
       "   group_name_WowSolarTV - Cash - SN  \\\n",
       "0                                  0   \n",
       "1                                  0   \n",
       "2                                  0   \n",
       "3                                  0   \n",
       "4                                  0   \n",
       "\n",
       "   group_name_WowSolarTV - Mensualité - GIE Sunu yaye - SN  \\\n",
       "0                                                  0         \n",
       "1                                                  0         \n",
       "2                                                  0         \n",
       "3                                                  0         \n",
       "4                                                  0         \n",
       "\n",
       "   group_name_WowSolarTV - Mensuel - BF  group_name_WowSolarTV - Mensuel - ML  \\\n",
       "0                                     0                                     0   \n",
       "1                                     0                                     0   \n",
       "2                                     0                                     0   \n",
       "3                                     0                                     0   \n",
       "4                                     0                                     0   \n",
       "\n",
       "   group_name_WowSolarTV - Mensuel - SN  \\\n",
       "0                                     0   \n",
       "1                                     0   \n",
       "2                                     0   \n",
       "3                                     0   \n",
       "4                                     0   \n",
       "\n",
       "   group_name_WowSolarTV - Mensuel Pilote - BF  \\\n",
       "0                                            0   \n",
       "1                                            0   \n",
       "2                                            0   \n",
       "3                                            0   \n",
       "4                                            0   \n",
       "\n",
       "   group_name_WowSolarTV - Monthly - NGR  group_name_chef - 4500/4500   \\\n",
       "0                                      0                             0   \n",
       "1                                      0                             0   \n",
       "2                                      0                             0   \n",
       "3                                      0                             0   \n",
       "4                                      0                             0   \n",
       "\n",
       "   product_type_Solar Fan  product_type_Sun King Home 60 Easy Buy  \\\n",
       "0                       0                                       1   \n",
       "1                       0                                       1   \n",
       "2                       0                                       1   \n",
       "3                       0                                       1   \n",
       "4                       0                                       1   \n",
       "\n",
       "   product_type_WowSolar100  product_type_WowSolar60  \\\n",
       "0                         0                        0   \n",
       "1                         0                        0   \n",
       "2                         0                        0   \n",
       "3                         0                        0   \n",
       "4                         0                        0   \n",
       "\n",
       "   product_type_WowSolarTV19  \n",
       "0                          0  \n",
       "1                          0  \n",
       "2                          0  \n",
       "3                          0  \n",
       "4                          0  "
      ]
     },
     "execution_count": 63,
     "metadata": {},
     "output_type": "execute_result"
    }
   ],
   "source": [
    "df.head()"
   ]
  },
  {
   "cell_type": "code",
   "execution_count": 67,
   "metadata": {},
   "outputs": [],
   "source": [
    "num_var = df.dtypes[df.dtypes=='bool'].index"
   ]
  },
  {
   "cell_type": "code",
   "execution_count": 68,
   "metadata": {},
   "outputs": [
    {
     "data": {
      "text/plain": [
       "Index(['written_off', 'replacement'], dtype='object')"
      ]
     },
     "execution_count": 68,
     "metadata": {},
     "output_type": "execute_result"
    }
   ],
   "source": [
    "num_var"
   ]
  },
  {
   "cell_type": "code",
   "execution_count": 69,
   "metadata": {},
   "outputs": [
    {
     "data": {
      "text/plain": [
       "account_id                                                   int64\n",
       "status                                                       int64\n",
       "arrhes_day                                                 float64\n",
       "price_program                                              float64\n",
       "arrhes                                                     float64\n",
       "total_amount                                                 int64\n",
       "invoce_model                                                 int64\n",
       "total_payed                                                  int64\n",
       "cutoff_days                                                float64\n",
       "day_disabled                                                 int64\n",
       "id_tenant                                                    int64\n",
       "AccountAge                                                 float64\n",
       "SinceLastPay                                               float64\n",
       "group_name_Caution 5000                                      uint8\n",
       "group_name_Chef 4500/4500                                    uint8\n",
       "group_name_Chef_PrePayee_0/3500                              uint8\n",
       "group_name_Chef_PrePayee_4250/4250                           uint8\n",
       "group_name_PAYG - GIE Sunu Yaye / 5000                       uint8\n",
       "group_name_PAYG 9000/4500                                    uint8\n",
       "group_name_PAYG Cash Sales - 70000                           uint8\n",
       "group_name_Paiement Annuel 35 000 / 35 000                   uint8\n",
       "group_name_Pilot Mbour - 3500/3500                           uint8\n",
       "group_name_PrePayee _3500/3500                               uint8\n",
       "group_name_PrePayee_8500/4250                                uint8\n",
       "group_name_Rechargeable Hair Clipper                         uint8\n",
       "group_name_SolarFAN - Cash - NGR                             uint8\n",
       "group_name_Vente Annuelle (41500 x 2)                        uint8\n",
       "group_name_WOW60 Annuel - 41500x2                            uint8\n",
       "group_name_WOW60 Cash - 70000                                uint8\n",
       "group_name_WOW60 Mensuel - 8500/4250                         uint8\n",
       "                                                            ...   \n",
       "group_name_WowSolar60 - Annuel - BF                          uint8\n",
       "group_name_WowSolar60 - Annuel - ML                          uint8\n",
       "group_name_WowSolar60 - Cash - BF                            uint8\n",
       "group_name_WowSolar60 - Cash - ML                            uint8\n",
       "group_name_WowSolar60 - Mensuel - BF                         uint8\n",
       "group_name_WowSolar60 - Mensuel - ML                         uint8\n",
       "group_name_WowSolar60 - chef - BF                            uint8\n",
       "group_name_WowSolar60_Annuelle 41500x2                       uint8\n",
       "group_name_WowSolar60_Mensuelle 8500/4250                    uint8\n",
       "group_name_WowSolar60_Vente 70,000CFA                        uint8\n",
       "group_name_WowSolarTV - Annuel - BF                          uint8\n",
       "group_name_WowSolarTV - Annuel - ML                          uint8\n",
       "group_name_WowSolarTV - Annuel - NGR                         uint8\n",
       "group_name_WowSolarTV - Annuité - SN                         uint8\n",
       "group_name_WowSolarTV - Cash - BF                            uint8\n",
       "group_name_WowSolarTV - Cash - ML                            uint8\n",
       "group_name_WowSolarTV - Cash - NGR                           uint8\n",
       "group_name_WowSolarTV - Cash - SN                            uint8\n",
       "group_name_WowSolarTV - Mensualité - GIE Sunu yaye - SN      uint8\n",
       "group_name_WowSolarTV - Mensuel - BF                         uint8\n",
       "group_name_WowSolarTV - Mensuel - ML                         uint8\n",
       "group_name_WowSolarTV - Mensuel - SN                         uint8\n",
       "group_name_WowSolarTV - Mensuel Pilote - BF                  uint8\n",
       "group_name_WowSolarTV - Monthly - NGR                        uint8\n",
       "group_name_chef - 4500/4500                                  uint8\n",
       "product_type_Solar Fan                                       uint8\n",
       "product_type_Sun King Home 60 Easy Buy                       uint8\n",
       "product_type_WowSolar100                                     uint8\n",
       "product_type_WowSolar60                                      uint8\n",
       "product_type_WowSolarTV19                                    uint8\n",
       "Length: 70, dtype: object"
      ]
     },
     "execution_count": 69,
     "metadata": {},
     "output_type": "execute_result"
    }
   ],
   "source": [
    "df.dtypes[df.dtypes!='bool']"
   ]
  },
  {
   "cell_type": "code",
   "execution_count": null,
   "metadata": {},
   "outputs": [],
   "source": []
  },
  {
   "cell_type": "code",
   "execution_count": null,
   "metadata": {},
   "outputs": [],
   "source": []
  }
 ],
 "metadata": {
  "kernelspec": {
   "display_name": "Python 3",
   "language": "python",
   "name": "python3"
  },
  "language_info": {
   "codemirror_mode": {
    "name": "ipython",
    "version": 3
   },
   "file_extension": ".py",
   "mimetype": "text/x-python",
   "name": "python",
   "nbconvert_exporter": "python",
   "pygments_lexer": "ipython3",
   "version": "3.6.3"
  }
 },
 "nbformat": 4,
 "nbformat_minor": 2
}
